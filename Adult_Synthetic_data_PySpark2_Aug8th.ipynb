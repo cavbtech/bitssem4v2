{
 "cells": [
  {
   "cell_type": "markdown",
   "metadata": {},
   "source": [
    "1. Language used : PySpark\n",
    "2. Worked on adult dataset and generated synthetic data from adult dataset\n",
    "3. Creating Model & comparisons "
   ]
  },
  {
   "cell_type": "code",
   "execution_count": 32,
   "metadata": {
    "tags": []
   },
   "outputs": [
    {
     "name": "stdout",
     "output_type": "stream",
     "text": [
      "Found existing installation: synthpop 0.1.1\n",
      "Uninstalling synthpop-0.1.1:\n",
      "  Successfully uninstalled synthpop-0.1.1\n"
     ]
    }
   ],
   "source": [
    "!pip3 uninstall -y synthpop"
   ]
  },
  {
   "cell_type": "code",
   "execution_count": 35,
   "metadata": {
    "tags": []
   },
   "outputs": [
    {
     "name": "stdout",
     "output_type": "stream",
     "text": [
      "Found existing installation: py-synthpop 0.1.2\n",
      "Uninstalling py-synthpop-0.1.2:\n",
      "  Successfully uninstalled py-synthpop-0.1.2\n"
     ]
    }
   ],
   "source": [
    "!pip3 uninstall -y py-synthpop"
   ]
  },
  {
   "cell_type": "code",
   "execution_count": 1,
   "metadata": {
    "tags": []
   },
   "outputs": [],
   "source": [
    "### Import statements\n",
    "from pyspark.sql import SparkSession\n",
    "from pyspark.conf import SparkConf\n",
    "from pyspark.sql.types import * \n",
    "import pyspark.sql.functions as F\n",
    "from pyspark.sql.functions import col, asc,desc\n",
    "import matplotlib.pyplot as plt\n",
    "import numpy as np\n",
    "import seaborn as sns\n",
    "from pyspark.sql import SQLContext\n",
    "from pyspark.mllib.stat import Statistics\n",
    "import pandas as pd\n",
    "from pyspark.sql.functions import udf\n",
    "from pyspark.ml.feature import OneHotEncoder, StringIndexer, VectorAssembler,StandardScaler\n",
    "from pyspark.ml import Pipeline\n",
    "from sklearn.metrics import confusion_matrix\n",
    "import json\n",
    "#import gcsfs"
   ]
  },
  {
   "cell_type": "code",
   "execution_count": 5,
   "metadata": {
    "tags": []
   },
   "outputs": [],
   "source": [
    "#!pip install google-auth-oauthlib==0.4.6"
   ]
  },
  {
   "cell_type": "code",
   "execution_count": 2,
   "metadata": {
    "tags": []
   },
   "outputs": [
    {
     "name": "stdout",
     "output_type": "stream",
     "text": [
      "Collecting py-synthpop\n",
      "  Downloading py_synthpop-0.1.2-py3-none-any.whl (19 kB)\n",
      "Installing collected packages: py-synthpop\n",
      "Successfully installed py-synthpop-0.1.2\n",
      "Note: you may need to restart the kernel to use updated packages.\n"
     ]
    }
   ],
   "source": [
    "pip install py-synthpop"
   ]
  },
  {
   "cell_type": "code",
   "execution_count": 3,
   "metadata": {
    "tags": []
   },
   "outputs": [],
   "source": [
    "## Building a spark session\n",
    "spark = SparkSession.builder \\\n",
    ".appName(\"synthpop\").enableHiveSupport()\\\n",
    ".getOrCreate()"
   ]
  },
  {
   "cell_type": "code",
   "execution_count": 4,
   "metadata": {
    "tags": []
   },
   "outputs": [],
   "source": [
    "## Import the synthpop \n",
    "from synthpop import Synthpop\n",
    "spop = Synthpop()"
   ]
  },
  {
   "cell_type": "code",
   "execution_count": 5,
   "metadata": {
    "tags": []
   },
   "outputs": [],
   "source": [
    "csv_path = \"synthpop_datasets/adult.data\"\n",
    "json_path = \"synthpop_datasets/dtypes.json\"\n",
    "\n",
    "with open(json_path, 'r') as f:\n",
    "  dtypes = json.load(f)"
   ]
  },
  {
   "cell_type": "code",
   "execution_count": 6,
   "metadata": {
    "tags": []
   },
   "outputs": [],
   "source": [
    "## Get the columns\n",
    "columns = list(dtypes.keys())"
   ]
  },
  {
   "cell_type": "code",
   "execution_count": 7,
   "metadata": {
    "tags": []
   },
   "outputs": [],
   "source": [
    "## Reading the dataframe from csv file\n",
    "adult_df = pd.read_csv(csv_path, header=None, names=columns).astype(dtypes)"
   ]
  },
  {
   "cell_type": "code",
   "execution_count": 8,
   "metadata": {
    "tags": []
   },
   "outputs": [
    {
     "data": {
      "text/plain": [
       "age                   int64\n",
       "workclass          category\n",
       "fnlwgt                int64\n",
       "education          category\n",
       "educational-num       int64\n",
       "marital-status     category\n",
       "occupation         category\n",
       "relationship       category\n",
       "race               category\n",
       "gender             category\n",
       "capital-gain          int64\n",
       "capital-loss          int64\n",
       "hours-per-week        int64\n",
       "native-country     category\n",
       "income             category\n",
       "dtype: object"
      ]
     },
     "execution_count": 8,
     "metadata": {},
     "output_type": "execute_result"
    }
   ],
   "source": [
    "adult_df.dtypes"
   ]
  },
  {
   "cell_type": "code",
   "execution_count": 9,
   "metadata": {
    "tags": []
   },
   "outputs": [],
   "source": [
    "adult_spark_df = spark.createDataFrame(adult_df)\n",
    "adult_spark_preprocessed_df = adult_spark_df.where((F.col('occupation')!='?') & (F.col('native-country')!='?') & (F.col('workclass')!='?'))"
   ]
  },
  {
   "cell_type": "code",
   "execution_count": 10,
   "metadata": {
    "tags": []
   },
   "outputs": [
    {
     "name": "stdout",
     "output_type": "stream",
     "text": [
      "+---+----------------+------+---------+---------------+------------------+---------------+-------------+-----+------+------------+------------+--------------+--------------+------+\n",
      "|age|workclass       |fnlwgt|education|educational-num|marital-status    |occupation     |relationship |race |gender|capital-gain|capital-loss|hours-per-week|native-country|income|\n",
      "+---+----------------+------+---------+---------------+------------------+---------------+-------------+-----+------+------------+------------+--------------+--------------+------+\n",
      "|39 |State-gov       |77516 |Bachelors|13             |Never-married     |Adm-clerical   |Not-in-family|White|Male  |2174        |0           |40            |United-States |<=50K |\n",
      "|50 |Self-emp-not-inc|83311 |Bachelors|13             |Married-civ-spouse|Exec-managerial|Husband      |White|Male  |0           |0           |13            |United-States |<=50K |\n",
      "+---+----------------+------+---------+---------------+------------------+---------------+-------------+-----+------+------------+------------+--------------+--------------+------+\n",
      "only showing top 2 rows\n",
      "\n"
     ]
    }
   ],
   "source": [
    "adult_spark_preprocessed_df.show(2,False)"
   ]
  },
  {
   "cell_type": "code",
   "execution_count": 11,
   "metadata": {
    "tags": []
   },
   "outputs": [
    {
     "data": {
      "text/plain": [
       "30162"
      ]
     },
     "execution_count": 11,
     "metadata": {},
     "output_type": "execute_result"
    }
   ],
   "source": [
    "adult_spark_preprocessed_df.count()"
   ]
  },
  {
   "cell_type": "code",
   "execution_count": 12,
   "metadata": {
    "tags": []
   },
   "outputs": [
    {
     "name": "stdout",
     "output_type": "stream",
     "text": [
      "root\n",
      " |-- age: long (nullable = true)\n",
      " |-- workclass: string (nullable = true)\n",
      " |-- fnlwgt: long (nullable = true)\n",
      " |-- education: string (nullable = true)\n",
      " |-- educational-num: long (nullable = true)\n",
      " |-- marital-status: string (nullable = true)\n",
      " |-- occupation: string (nullable = true)\n",
      " |-- relationship: string (nullable = true)\n",
      " |-- race: string (nullable = true)\n",
      " |-- gender: string (nullable = true)\n",
      " |-- capital-gain: long (nullable = true)\n",
      " |-- capital-loss: long (nullable = true)\n",
      " |-- hours-per-week: long (nullable = true)\n",
      " |-- native-country: string (nullable = true)\n",
      " |-- income: string (nullable = true)\n",
      "\n"
     ]
    }
   ],
   "source": [
    "adult_spark_preprocessed_df.printSchema()"
   ]
  },
  {
   "cell_type": "code",
   "execution_count": 13,
   "metadata": {
    "tags": []
   },
   "outputs": [],
   "source": [
    "## Listing out all the columns\n",
    "cols = adult_spark_preprocessed_df.columns"
   ]
  },
  {
   "cell_type": "code",
   "execution_count": 14,
   "metadata": {
    "tags": []
   },
   "outputs": [],
   "source": [
    "from pyspark.ml.feature import OneHotEncoder, StringIndexer, VectorAssembler\n",
    "categoricalColumns = ['workclass','education','marital-status','occupation','relationship','race','gender','native-country']\n",
    "stages = []\n",
    "for categoricalCol in categoricalColumns:\n",
    "    stringIndexer = StringIndexer(inputCol = categoricalCol, outputCol = categoricalCol + 'Index')\n",
    "    encoder = OneHotEncoder(inputCols=[stringIndexer.getOutputCol()], outputCols=[categoricalCol + \"classVec\"])\n",
    "    stages += [stringIndexer, encoder]\n",
    "label_stringIdx = StringIndexer(inputCol = 'income', outputCol = 'label')\n",
    "stages += [label_stringIdx]\n",
    "numericCols = ['age','fnlwgt','educational-num','capital-gain','capital-loss','hours-per-week']\n",
    "assemblerInputs = [c + \"classVec\" for c in categoricalColumns] + numericCols\n",
    "assembler = VectorAssembler(inputCols=assemblerInputs, outputCol=\"features\")\n",
    "stages += [assembler]"
   ]
  },
  {
   "cell_type": "code",
   "execution_count": 15,
   "metadata": {
    "tags": []
   },
   "outputs": [],
   "source": [
    "from pyspark.ml import Pipeline\n",
    "pipeline = Pipeline(stages = stages)\n",
    "pipelineModel = pipeline.fit(adult_spark_preprocessed_df)\n",
    "adult_df1 = pipelineModel.transform(adult_spark_preprocessed_df)\n",
    "selectedCols = ['label', 'features'] + cols\n",
    "adult_df1 = adult_df1.select(selectedCols)"
   ]
  },
  {
   "cell_type": "code",
   "execution_count": 16,
   "metadata": {
    "tags": []
   },
   "outputs": [
    {
     "name": "stdout",
     "output_type": "stream",
     "text": [
      "Training Dataset Count: 21077\n",
      "Test Dataset Count: 9085\n"
     ]
    }
   ],
   "source": [
    "train_adult, test_adult = adult_df1.randomSplit([0.7, 0.3], seed = 2018)\n",
    "print(\"Training Dataset Count: \" + str(train_adult.count()))\n",
    "print(\"Test Dataset Count: \" + str(test_adult.count()))"
   ]
  },
  {
   "cell_type": "code",
   "execution_count": 18,
   "metadata": {
    "collapsed": true,
    "jupyter": {
     "outputs_hidden": true
    },
    "tags": []
   },
   "outputs": [
    {
     "name": "stdout",
     "output_type": "stream",
     "text": [
      "+-----+-----------------------------------------------------------------------------------------------------------+---+---------+------+---------+---------------+------------------+--------------+------------+-----+------+------------+------------+--------------+--------------+------+\n",
      "|label|features                                                                                                   |age|workclass|fnlwgt|education|educational-num|marital-status    |occupation    |relationship|race |gender|capital-gain|capital-loss|hours-per-week|native-country|income|\n",
      "+-----+-----------------------------------------------------------------------------------------------------------+---+---------+------+---------+---------------+------------------+--------------+------------+-----+------+------------+------------+--------------+--------------+------+\n",
      "|0.0  |(96,[0,6,21,27,40,45,49,50,90,91,92,94,95],[1.0,1.0,1.0,1.0,1.0,1.0,1.0,1.0,32.0,130304.0,9.0,1485.0,48.0])|32 |Private  |130304|HS-grad  |9              |Married-civ-spouse|Prof-specialty|Husband     |White|Male  |0           |1485        |48            |United-States |<=50K |\n",
      "|0.0  |(96,[0,6,21,28,40,45,49,50,90,91,92,95],[1.0,1.0,1.0,1.0,1.0,1.0,1.0,1.0,27.0,96226.0,9.0,70.0])           |27 |Private  |96226 |HS-grad  |9              |Married-civ-spouse|Craft-repair  |Husband     |White|Male  |0           |0           |70            |United-States |<=50K |\n",
      "|0.0  |(96,[0,6,21,28,40,45,49,50,90,91,92,95],[1.0,1.0,1.0,1.0,1.0,1.0,1.0,1.0,27.0,297296.0,9.0,40.0])          |27 |Private  |297296|HS-grad  |9              |Married-civ-spouse|Craft-repair  |Husband     |White|Male  |0           |0           |40            |United-States |<=50K |\n",
      "|0.0  |(96,[0,6,21,28,40,45,49,50,90,91,92,95],[1.0,1.0,1.0,1.0,1.0,1.0,1.0,1.0,27.0,588905.0,9.0,40.0])          |27 |Private  |588905|HS-grad  |9              |Married-civ-spouse|Craft-repair  |Husband     |White|Male  |0           |0           |40            |United-States |<=50K |\n",
      "|0.0  |(96,[0,6,21,28,40,45,49,50,90,91,92,95],[1.0,1.0,1.0,1.0,1.0,1.0,1.0,1.0,30.0,236770.0,9.0,40.0])          |30 |Private  |236770|HS-grad  |9              |Married-civ-spouse|Craft-repair  |Husband     |White|Male  |0           |0           |40            |United-States |<=50K |\n",
      "|0.0  |(96,[0,6,21,28,40,45,49,50,90,91,92,95],[1.0,1.0,1.0,1.0,1.0,1.0,1.0,1.0,34.0,106742.0,9.0,45.0])          |34 |Private  |106742|HS-grad  |9              |Married-civ-spouse|Craft-repair  |Husband     |White|Male  |0           |0           |45            |United-States |<=50K |\n",
      "|0.0  |(96,[0,6,21,28,40,45,49,50,90,91,92,95],[1.0,1.0,1.0,1.0,1.0,1.0,1.0,1.0,35.0,181382.0,9.0,43.0])          |35 |Private  |181382|HS-grad  |9              |Married-civ-spouse|Craft-repair  |Husband     |White|Male  |0           |0           |43            |United-States |<=50K |\n",
      "|0.0  |(96,[0,6,21,28,40,45,49,50,90,91,92,95],[1.0,1.0,1.0,1.0,1.0,1.0,1.0,1.0,43.0,413297.0,9.0,45.0])          |43 |Private  |413297|HS-grad  |9              |Married-civ-spouse|Craft-repair  |Husband     |White|Male  |0           |0           |45            |United-States |<=50K |\n",
      "|0.0  |(96,[0,6,21,28,40,45,49,50,90,91,92,95],[1.0,1.0,1.0,1.0,1.0,1.0,1.0,1.0,44.0,222434.0,9.0,40.0])          |44 |Private  |222434|HS-grad  |9              |Married-civ-spouse|Craft-repair  |Husband     |White|Male  |0           |0           |40            |United-States |<=50K |\n",
      "|0.0  |(96,[0,6,21,28,40,45,49,50,90,91,92,95],[1.0,1.0,1.0,1.0,1.0,1.0,1.0,1.0,47.0,198901.0,9.0,48.0])          |47 |Private  |198901|HS-grad  |9              |Married-civ-spouse|Craft-repair  |Husband     |White|Male  |0           |0           |48            |United-States |<=50K |\n",
      "+-----+-----------------------------------------------------------------------------------------------------------+---+---------+------+---------+---------------+------------------+--------------+------------+-----+------+------------+------------+--------------+--------------+------+\n",
      "only showing top 10 rows\n",
      "\n"
     ]
    }
   ],
   "source": [
    "test_adult.show(10,False)"
   ]
  },
  {
   "cell_type": "code",
   "execution_count": 17,
   "metadata": {
    "tags": []
   },
   "outputs": [
    {
     "name": "stdout",
     "output_type": "stream",
     "text": [
      "root\n",
      " |-- label: double (nullable = false)\n",
      " |-- features: vector (nullable = true)\n",
      " |-- age: long (nullable = true)\n",
      " |-- workclass: string (nullable = true)\n",
      " |-- fnlwgt: long (nullable = true)\n",
      " |-- education: string (nullable = true)\n",
      " |-- educational-num: long (nullable = true)\n",
      " |-- marital-status: string (nullable = true)\n",
      " |-- occupation: string (nullable = true)\n",
      " |-- relationship: string (nullable = true)\n",
      " |-- race: string (nullable = true)\n",
      " |-- gender: string (nullable = true)\n",
      " |-- capital-gain: long (nullable = true)\n",
      " |-- capital-loss: long (nullable = true)\n",
      " |-- hours-per-week: long (nullable = true)\n",
      " |-- native-country: string (nullable = true)\n",
      " |-- income: string (nullable = true)\n",
      "\n"
     ]
    }
   ],
   "source": [
    "test_adult.printSchema()"
   ]
  },
  {
   "cell_type": "code",
   "execution_count": 156,
   "metadata": {
    "tags": []
   },
   "outputs": [
    {
     "name": "stdout",
     "output_type": "stream",
     "text": [
      "+------------------+\n",
      "|<lambda>(features)|\n",
      "+------------------+\n",
      "|1                 |\n",
      "|0                 |\n",
      "+------------------+\n",
      "\n"
     ]
    }
   ],
   "source": [
    "firstelement=udf(lambda v:int(v[0]),IntegerType())\n",
    "test_adult.select(firstelement('features')).distinct().show(100,False)"
   ]
  },
  {
   "cell_type": "code",
   "execution_count": null,
   "metadata": {},
   "outputs": [],
   "source": []
  },
  {
   "cell_type": "markdown",
   "metadata": {},
   "source": [
    "#### Modelling"
   ]
  },
  {
   "cell_type": "code",
   "execution_count": 19,
   "metadata": {
    "tags": []
   },
   "outputs": [],
   "source": [
    "from pyspark.ml.classification import LogisticRegression\n",
    "lr = LogisticRegression(featuresCol = 'features', labelCol = 'label', maxIter=10)\n",
    "lrModel = lr.fit(train_adult)"
   ]
  },
  {
   "cell_type": "markdown",
   "metadata": {},
   "source": [
    "#### Save the Model"
   ]
  },
  {
   "cell_type": "code",
   "execution_count": 20,
   "metadata": {
    "tags": []
   },
   "outputs": [],
   "source": [
    "mPath = \"synthpop_datasets/models/model_adult_pyspark_30k\""
   ]
  },
  {
   "cell_type": "code",
   "execution_count": 21,
   "metadata": {
    "tags": []
   },
   "outputs": [],
   "source": [
    "# writing the model\n",
    "from pyspark.ml import PipelineModel\n",
    "lrModel.write().overwrite().save(mPath)"
   ]
  },
  {
   "cell_type": "markdown",
   "metadata": {},
   "source": [
    "#### Load the Model"
   ]
  },
  {
   "cell_type": "code",
   "execution_count": 22,
   "metadata": {
    "tags": []
   },
   "outputs": [],
   "source": [
    "from pyspark.ml.classification import LogisticRegressionModel\n",
    "model_adult = LogisticRegressionModel.load(mPath)"
   ]
  },
  {
   "cell_type": "code",
   "execution_count": 23,
   "metadata": {
    "tags": []
   },
   "outputs": [
    {
     "name": "stdout",
     "output_type": "stream",
     "text": [
      "+-----+------------------------------------------+----------+---------------------------------------+\n",
      "|label|rawPrediction                             |prediction|probability                            |\n",
      "+-----+------------------------------------------+----------+---------------------------------------+\n",
      "|0.0  |[-0.23731976042759229,0.23731976042759229]|1.0       |[0.4409469589751305,0.5590530410248695]|\n",
      "|0.0  |[0.6598532512717856,-0.6598532512717856]  |0.0       |[0.659227422614798,0.34077257738520195]|\n",
      "|0.0  |[1.3926798253862884,-1.3926798253862884]  |0.0       |[0.8010197174070638,0.1989802825929362]|\n",
      "+-----+------------------------------------------+----------+---------------------------------------+\n",
      "only showing top 3 rows\n",
      "\n"
     ]
    }
   ],
   "source": [
    "predictions_adult_test_data = model_adult.transform(test_adult)\n",
    "predictions_adult_test_data.select('label', 'rawPrediction', 'prediction', 'probability').show(3,False)"
   ]
  },
  {
   "cell_type": "code",
   "execution_count": 24,
   "metadata": {
    "tags": []
   },
   "outputs": [
    {
     "name": "stdout",
     "output_type": "stream",
     "text": [
      "Accuracy :  0.8485415520088058\n"
     ]
    }
   ],
   "source": [
    "accuracy = predictions_adult_test_data.filter(predictions_adult_test_data.label == predictions_adult_test_data.prediction).count() / float(predictions_adult_test_data.count())\n",
    "print(\"Accuracy : \",accuracy)\n",
    "#Accuracy :  0.8423309510720176 - 10 Iterations\n",
    "#Accuracy :  0.7569847704612688 - one time run model accuracy"
   ]
  },
  {
   "cell_type": "code",
   "execution_count": 25,
   "metadata": {
    "tags": []
   },
   "outputs": [],
   "source": [
    "class_names=[1.0,0.0]\n",
    "import itertools\n",
    "def plot_confusion_matrix(cm, classes,\n",
    "                          normalize=False,\n",
    "                          title='Confusion matrix',\n",
    "                          cmap=plt.cm.Blues):\n",
    "    \"\"\"\n",
    "    This function prints and plots the confusion matrix.\n",
    "    Normalization can be applied by setting `normalize=True`.\n",
    "    \"\"\"\n",
    "    if normalize:\n",
    "        cm = cm.astype('float') / cm.sum(axis=1)[:, np.newaxis]\n",
    "        print(\"Normalized confusion matrix\")\n",
    "    else:\n",
    "        print('Confusion matrix, without normalization')\n",
    "\n",
    "    print(cm)\n",
    "\n",
    "    plt.imshow(cm, interpolation='nearest', cmap=cmap)\n",
    "    plt.title(title)\n",
    "    plt.colorbar()\n",
    "    tick_marks = np.arange(len(classes))\n",
    "    plt.xticks(tick_marks, classes, rotation=45)\n",
    "    plt.yticks(tick_marks, classes)\n",
    "\n",
    "    fmt = '.2f' if normalize else 'd'\n",
    "    thresh = cm.max() / 2.\n",
    "    for i, j in itertools.product(range(cm.shape[0]), range(cm.shape[1])):\n",
    "        plt.text(j, i, format(cm[i, j], fmt),\n",
    "                 horizontalalignment=\"center\",\n",
    "                 color=\"white\" if cm[i, j] > thresh else \"black\")\n",
    "\n",
    "    plt.tight_layout()\n",
    "    plt.ylabel('True label')\n",
    "    plt.xlabel('Predicted label')"
   ]
  },
  {
   "cell_type": "code",
   "execution_count": 26,
   "metadata": {
    "tags": []
   },
   "outputs": [
    {
     "name": "stdout",
     "output_type": "stream",
     "text": [
      "Confusion matrix, without normalization\n",
      "[[1382  884]\n",
      " [ 492 6327]]\n"
     ]
    },
    {
     "data": {
      "image/png": "[encoded data removed]",
      "text/plain": [
       "<Figure size 640x480 with 2 Axes>"
      ]
     },
     "metadata": {},
     "output_type": "display_data"
    }
   ],
   "source": [
    "y_true = predictions_adult_test_data.select(\"label\")\n",
    "y_true = y_true.toPandas()\n",
    "\n",
    "y_pred = predictions_adult_test_data.select(\"prediction\")\n",
    "y_pred = y_pred.toPandas()\n",
    "\n",
    "cnf_matrix = confusion_matrix(y_true, y_pred,labels=class_names)\n",
    "#cnf_matrix\n",
    "plt.figure()\n",
    "plot_confusion_matrix(cnf_matrix, classes=class_names,\n",
    "                      title='Confusion matrix')\n",
    "plt.show()"
   ]
  },
  {
   "cell_type": "code",
   "execution_count": 27,
   "metadata": {
    "tags": []
   },
   "outputs": [
    {
     "name": "stdout",
     "output_type": "stream",
     "text": [
      "+----------+-----+----+\n",
      "|prediction|label|cnt |\n",
      "+----------+-----+----+\n",
      "|1.0       |1.0  |1382|\n",
      "|0.0       |1.0  |884 |\n",
      "|1.0       |0.0  |492 |\n",
      "|0.0       |0.0  |6327|\n",
      "+----------+-----+----+\n",
      "\n"
     ]
    }
   ],
   "source": [
    "predictions_adult_test_data.groupBy('prediction','label').agg(F.count('*').alias('cnt')).show(10,False)\n"
   ]
  },
  {
   "cell_type": "markdown",
   "metadata": {},
   "source": [
    "#### Generating synthetic data and building a model and checking the performance"
   ]
  },
  {
   "cell_type": "code",
   "execution_count": 28,
   "metadata": {
    "tags": []
   },
   "outputs": [],
   "source": [
    "preprocessed_adult_df = adult_df[~(adult_df['workclass'] == '?') & \\\n",
    "                            ~(adult_df['occupation'] == '?') & ~(adult_df['native-country'] == '?')]"
   ]
  },
  {
   "cell_type": "code",
   "execution_count": 29,
   "metadata": {
    "tags": []
   },
   "outputs": [
    {
     "name": "stderr",
     "output_type": "stream",
     "text": [
      "/opt/conda/lib/python3.11/site-packages/synthpop/validator/validator.py:197: FutureWarning: iteritems is deprecated and will be removed in a future version. Use .items instead.\n",
      "  for col, _ in self.spop.visit_sequence.sort_values().iteritems():\n",
      "/opt/conda/lib/python3.11/site-packages/synthpop/synthpop.py:73: FutureWarning: iteritems is deprecated and will be removed in a future version. Use .items instead.\n",
      "  for col, visit_step in self.visit_sequence.sort_values().iteritems():\n"
     ]
    },
    {
     "name": "stdout",
     "output_type": "stream",
     "text": [
      "train_age\n",
      "train_workclass\n",
      "train_fnlwgt\n",
      "train_education\n",
      "train_educational-num\n",
      "train_marital-status\n",
      "train_occupation\n",
      "train_relationship\n",
      "train_race\n",
      "train_gender\n",
      "train_capital-gain\n",
      "train_capital-loss\n",
      "train_hours-per-week\n",
      "train_native-country\n",
      "train_income\n"
     ]
    }
   ],
   "source": [
    "spop.fit(preprocessed_adult_df, dtypes)"
   ]
  },
  {
   "cell_type": "code",
   "execution_count": 30,
   "metadata": {
    "tags": []
   },
   "outputs": [
    {
     "name": "stderr",
     "output_type": "stream",
     "text": [
      "/opt/conda/lib/python3.11/site-packages/synthpop/synthpop.py:99: FutureWarning: iteritems is deprecated and will be removed in a future version. Use .items instead.\n",
      "  for col, visit_step in self.visit_sequence.sort_values().iteritems():\n"
     ]
    },
    {
     "name": "stdout",
     "output_type": "stream",
     "text": [
      "generate_age\n",
      "generate_workclass\n",
      "generate_fnlwgt\n",
      "generate_education\n",
      "generate_educational-num\n",
      "generate_marital-status\n",
      "generate_occupation\n",
      "generate_relationship\n",
      "generate_race\n",
      "generate_gender\n",
      "generate_capital-gain\n",
      "generate_capital-loss\n",
      "generate_hours-per-week\n",
      "generate_native-country\n",
      "generate_income\n"
     ]
    }
   ],
   "source": [
    "synth_full_df = spop.generate(len(preprocessed_adult_df))"
   ]
  },
  {
   "cell_type": "code",
   "execution_count": 31,
   "metadata": {
    "tags": []
   },
   "outputs": [],
   "source": [
    "synth_full_df.to_csv(\"synthpop_datasets/synthesized_df_30k\",index=False)"
   ]
  },
  {
   "cell_type": "code",
   "execution_count": 32,
   "metadata": {
    "tags": []
   },
   "outputs": [],
   "source": [
    "synth_df_30k = pd.read_csv(\"synthpop_datasets/synthesized_df_30k\")"
   ]
  },
  {
   "cell_type": "code",
   "execution_count": 33,
   "metadata": {
    "tags": []
   },
   "outputs": [
    {
     "data": {
      "text/html": [
       "<div>\n",
       "<style scoped>\n",
       "    .dataframe tbody tr th:only-of-type {\n",
       "        vertical-align: middle;\n",
       "    }\n",
       "\n",
       "    .dataframe tbody tr th {\n",
       "        vertical-align: top;\n",
       "    }\n",
       "\n",
       "    .dataframe thead th {\n",
       "        text-align: right;\n",
       "    }\n",
       "</style>\n",
       "<table border=\"1\" class=\"dataframe\">\n",
       "  <thead>\n",
       "    <tr style=\"text-align: right;\">\n",
       "      <th></th>\n",
       "      <th>age</th>\n",
       "      <th>workclass</th>\n",
       "      <th>fnlwgt</th>\n",
       "      <th>education</th>\n",
       "      <th>educational-num</th>\n",
       "      <th>marital-status</th>\n",
       "      <th>occupation</th>\n",
       "      <th>relationship</th>\n",
       "      <th>race</th>\n",
       "      <th>gender</th>\n",
       "      <th>capital-gain</th>\n",
       "      <th>capital-loss</th>\n",
       "      <th>hours-per-week</th>\n",
       "      <th>native-country</th>\n",
       "      <th>income</th>\n",
       "    </tr>\n",
       "  </thead>\n",
       "  <tbody>\n",
       "    <tr>\n",
       "      <th>0</th>\n",
       "      <td>73</td>\n",
       "      <td>Private</td>\n",
       "      <td>192740</td>\n",
       "      <td>HS-grad</td>\n",
       "      <td>9</td>\n",
       "      <td>Married-civ-spouse</td>\n",
       "      <td>Machine-op-inspct</td>\n",
       "      <td>Wife</td>\n",
       "      <td>White</td>\n",
       "      <td>Female</td>\n",
       "      <td>0</td>\n",
       "      <td>0</td>\n",
       "      <td>20</td>\n",
       "      <td>United-States</td>\n",
       "      <td>&lt;=50K</td>\n",
       "    </tr>\n",
       "    <tr>\n",
       "      <th>1</th>\n",
       "      <td>19</td>\n",
       "      <td>Federal-gov</td>\n",
       "      <td>431745</td>\n",
       "      <td>Some-college</td>\n",
       "      <td>10</td>\n",
       "      <td>Never-married</td>\n",
       "      <td>Handlers-cleaners</td>\n",
       "      <td>Unmarried</td>\n",
       "      <td>Black</td>\n",
       "      <td>Female</td>\n",
       "      <td>0</td>\n",
       "      <td>0</td>\n",
       "      <td>35</td>\n",
       "      <td>United-States</td>\n",
       "      <td>&lt;=50K</td>\n",
       "    </tr>\n",
       "  </tbody>\n",
       "</table>\n",
       "</div>"
      ],
      "text/plain": [
       "   age    workclass  fnlwgt     education  educational-num  \\\n",
       "0   73      Private  192740       HS-grad                9   \n",
       "1   19  Federal-gov  431745  Some-college               10   \n",
       "\n",
       "       marital-status         occupation relationship   race  gender  \\\n",
       "0  Married-civ-spouse  Machine-op-inspct         Wife  White  Female   \n",
       "1       Never-married  Handlers-cleaners    Unmarried  Black  Female   \n",
       "\n",
       "   capital-gain  capital-loss  hours-per-week native-country income  \n",
       "0             0             0              20  United-States  <=50K  \n",
       "1             0             0              35  United-States  <=50K  "
      ]
     },
     "execution_count": 33,
     "metadata": {},
     "output_type": "execute_result"
    }
   ],
   "source": [
    "synth_df_30k.head(2)"
   ]
  },
  {
   "cell_type": "code",
   "execution_count": 34,
   "metadata": {
    "tags": []
   },
   "outputs": [],
   "source": [
    "synth_spark_full_df = spark.createDataFrame(synth_df_30k)"
   ]
  },
  {
   "cell_type": "code",
   "execution_count": 63,
   "metadata": {
    "tags": []
   },
   "outputs": [
    {
     "name": "stdout",
     "output_type": "stream",
     "text": [
      "stages: 16\n",
      "stages after label: 17\n",
      "stages: [StringIndexer_5f3de39ba705, OneHotEncoder_cf286575a551, StringIndexer_25263823b1e0, OneHotEncoder_e9fbd0b43892, StringIndexer_bd10bca88d6a, OneHotEncoder_5a951bf8f47f, StringIndexer_56f86d7f5689, OneHotEncoder_0f5f1ba1cbc4, StringIndexer_5f632419dc87, OneHotEncoder_5a0572d0196a, StringIndexer_b9f10c658f6e, OneHotEncoder_e16060aeefe2, StringIndexer_3b354ade78a8, OneHotEncoder_e5a51db21859, StringIndexer_87c058ef0c82, OneHotEncoder_77da41295d59, StringIndexer_ecf1466bae8d, VectorAssembler_3dfccb529c5b]\n",
      "+---------------------------------------------------------------------------------------------------+-----+\n",
      "|features                                                                                           |label|\n",
      "+---------------------------------------------------------------------------------------------------+-----+\n",
      "|(96,[0,6,21,33,44,45,50,90,91,92,95],[1.0,1.0,1.0,1.0,1.0,1.0,1.0,73.0,192740.0,9.0,20.0])         |0.0  |\n",
      "|(96,[5,7,22,35,43,46,50,90,91,92,95],[1.0,1.0,1.0,1.0,1.0,1.0,1.0,19.0,431745.0,10.0,35.0])        |0.0  |\n",
      "|(96,[0,12,22,37,42,45,49,50,90,91,92,95],[1.0,1.0,1.0,1.0,1.0,1.0,1.0,1.0,25.0,109872.0,12.0,20.0])|0.0  |\n",
      "|(96,[0,6,21,31,40,45,49,50,90,91,92,95],[1.0,1.0,1.0,1.0,1.0,1.0,1.0,1.0,54.0,202415.0,9.0,40.0])  |1.0  |\n",
      "|(96,[0,8,21,30,40,46,49,50,90,91,92,95],[1.0,1.0,1.0,1.0,1.0,1.0,1.0,1.0,37.0,635913.0,13.0,60.0]) |0.0  |\n",
      "+---------------------------------------------------------------------------------------------------+-----+\n",
      "only showing top 5 rows\n",
      "\n",
      "Training Dataset Count: 21111\n",
      "Test Dataset Count: 9051\n"
     ]
    }
   ],
   "source": [
    "## Listing out all the columns\n",
    "cols = synth_spark_full_df.columns\n",
    "\n",
    "from pyspark.ml.feature import OneHotEncoder, StringIndexer, VectorAssembler\n",
    "categoricalColumns = ['workclass','education','marital-status','occupation','relationship','race','gender','native-country']\n",
    "stages = []\n",
    "for categoricalCol in categoricalColumns:\n",
    "    stringIndexer = StringIndexer(inputCol = categoricalCol, outputCol = categoricalCol + 'Index')\n",
    "    encoder = OneHotEncoder(inputCols=[stringIndexer.getOutputCol()], outputCols=[categoricalCol + \"classVec\"])\n",
    "    stages += [stringIndexer, encoder]\n",
    "# print(stringIndexer.getOutputCol())  # This will print \"categoricalColIndex\"\n",
    "#print(encoder.getOutputCols())  # This will print [\"categoricalColVec\"]\n",
    "print(\"stages:\",len(stages))\n",
    "\n",
    "label_stringIdx = StringIndexer(inputCol = 'income', outputCol = 'label')\n",
    "stages += [label_stringIdx]\n",
    "print(\"stages after label:\",len(stages))\n",
    "\n",
    "numericCols = ['age','fnlwgt','educational-num','capital-gain','capital-loss','hours-per-week']\n",
    "assemblerInputs = [c + \"classVec\" for c in categoricalColumns] + numericCols\n",
    "# print(\"assemblerInputs:\",len(assemblerInputs))\n",
    "\n",
    "assembler = VectorAssembler(inputCols=assemblerInputs, outputCol=\"features\")\n",
    "stages += [assembler]\n",
    "print(\"stages:\",stages)\n",
    "\n",
    "from pyspark.ml import Pipeline\n",
    "pipeline_synth = Pipeline(stages = stages)\n",
    "pipelineModel_synth = pipeline_synth.fit(synth_spark_full_df)\n",
    "synth_full_df1 = pipelineModel_synth.transform(synth_spark_full_df)\n",
    "selectedCols = ['label', 'features'] + cols\n",
    "synth_full_df1 = synth_full_df1.select(selectedCols)\n",
    "\n",
    "synth_full_df1.select(\"features\",\"label\").show(5,False)\n",
    "train_synth, test_synth = synth_full_df1.randomSplit([0.7, 0.3], seed = 2018)\n",
    "print(\"Training Dataset Count: \" + str(train_synth.count()))\n",
    "print(\"Test Dataset Count: \" + str(test_synth.count()))\n",
    "\n",
    "from pyspark.ml.classification import LogisticRegression\n",
    "lr_full_data = LogisticRegression(featuresCol = 'features', labelCol = 'label', maxIter=10)\n",
    "lrModel_synth = lr_full_data.fit(train_synth)\n"
   ]
  },
  {
   "cell_type": "code",
   "execution_count": 61,
   "metadata": {},
   "outputs": [
    {
     "data": {
      "text/plain": [
       "11"
      ]
     },
     "execution_count": 61,
     "metadata": {},
     "output_type": "execute_result"
    }
   ],
   "source": [
    "s = [0,6,21,33,44,45,50,90,91,92,95]\n",
    "len(s)"
   ]
  },
  {
   "cell_type": "code",
   "execution_count": 50,
   "metadata": {},
   "outputs": [
    {
     "name": "stdout",
     "output_type": "stream",
     "text": [
      "3.11.4 | packaged by conda-forge | (main, Jun 10 2023, 18:08:17) [GCC 12.2.0]\n"
     ]
    }
   ],
   "source": [
    "import sys\n",
    "print(sys.version)"
   ]
  },
  {
   "cell_type": "code",
   "execution_count": 51,
   "metadata": {},
   "outputs": [
    {
     "name": "stdout",
     "output_type": "stream",
     "text": [
      "3.11.4\n"
     ]
    }
   ],
   "source": [
    "import platform\n",
    "print(platform.python_version())"
   ]
  },
  {
   "cell_type": "code",
   "execution_count": 52,
   "metadata": {},
   "outputs": [
    {
     "name": "stdout",
     "output_type": "stream",
     "text": [
      "PySpark version: 3.4.1\n"
     ]
    }
   ],
   "source": [
    "import pyspark\n",
    "print(f\"PySpark version: {pyspark.__version__}\")"
   ]
  },
  {
   "cell_type": "code",
   "execution_count": 45,
   "metadata": {},
   "outputs": [
    {
     "name": "stdout",
     "output_type": "stream",
     "text": [
      "+-----+-----------------------------------------------------------------------------------------------------------+---+---------+------+---------+---------------+------------------+------------+------------+-----+------+------------+------------+--------------+--------------+------+\n",
      "|label|features                                                                                                   |age|workclass|fnlwgt|education|educational-num|marital-status    |occupation  |relationship|race |gender|capital-gain|capital-loss|hours-per-week|native-country|income|\n",
      "+-----+-----------------------------------------------------------------------------------------------------------+---+---------+------+---------+---------------+------------------+------------+------------+-----+------+------------+------------+--------------+--------------+------+\n",
      "|0.0  |(96,[0,6,21,27,40,45,49,50,90,91,92,93,95],[1.0,1.0,1.0,1.0,1.0,1.0,1.0,1.0,33.0,34574.0,9.0,3908.0,40.0]) |33 |Private  |34574 |HS-grad  |9              |Married-civ-spouse|Craft-repair|Husband     |White|Male  |3908        |0           |40            |United-States |<=50K |\n",
      "|0.0  |(96,[0,6,21,27,40,45,49,50,90,91,92,93,95],[1.0,1.0,1.0,1.0,1.0,1.0,1.0,1.0,50.0,100109.0,9.0,3103.0,40.0])|50 |Private  |100109|HS-grad  |9              |Married-civ-spouse|Craft-repair|Husband     |White|Male  |3103        |0           |40            |United-States |<=50K |\n",
      "|0.0  |(96,[0,6,21,27,40,45,49,50,90,91,92,93,95],[1.0,1.0,1.0,1.0,1.0,1.0,1.0,1.0,68.0,163346.0,9.0,2290.0,16.0])|68 |Private  |163346|HS-grad  |9              |Married-civ-spouse|Craft-repair|Husband     |White|Male  |2290        |0           |16            |United-States |<=50K |\n",
      "|0.0  |(96,[0,6,21,27,40,45,49,50,90,91,92,94,95],[1.0,1.0,1.0,1.0,1.0,1.0,1.0,1.0,20.0,34310.0,9.0,2002.0,35.0]) |20 |Private  |34310 |HS-grad  |9              |Married-civ-spouse|Craft-repair|Husband     |White|Male  |0           |2002        |35            |United-States |<=50K |\n",
      "|0.0  |(96,[0,6,21,27,40,45,49,50,90,91,92,94,95],[1.0,1.0,1.0,1.0,1.0,1.0,1.0,1.0,56.0,174744.0,9.0,1485.0,40.0])|56 |Private  |174744|HS-grad  |9              |Married-civ-spouse|Craft-repair|Husband     |White|Male  |0           |1485        |40            |United-States |<=50K |\n",
      "|0.0  |(96,[0,6,21,27,40,45,49,50,90,91,92,95],[1.0,1.0,1.0,1.0,1.0,1.0,1.0,1.0,18.0,184016.0,9.0,40.0])          |18 |Private  |184016|HS-grad  |9              |Married-civ-spouse|Craft-repair|Husband     |White|Male  |0           |0           |40            |United-States |<=50K |\n",
      "|0.0  |(96,[0,6,21,27,40,45,49,50,90,91,92,95],[1.0,1.0,1.0,1.0,1.0,1.0,1.0,1.0,20.0,34310.0,9.0,25.0])           |20 |Private  |34310 |HS-grad  |9              |Married-civ-spouse|Craft-repair|Husband     |White|Male  |0           |0           |25            |United-States |<=50K |\n",
      "|0.0  |(96,[0,6,21,27,40,45,49,50,90,91,92,95],[1.0,1.0,1.0,1.0,1.0,1.0,1.0,1.0,24.0,509629.0,9.0,40.0])          |24 |Private  |509629|HS-grad  |9              |Married-civ-spouse|Craft-repair|Husband     |White|Male  |0           |0           |40            |United-States |<=50K |\n",
      "|0.0  |(96,[0,6,21,27,40,45,49,50,90,91,92,95],[1.0,1.0,1.0,1.0,1.0,1.0,1.0,1.0,26.0,199143.0,9.0,48.0])          |26 |Private  |199143|HS-grad  |9              |Married-civ-spouse|Craft-repair|Husband     |White|Male  |0           |0           |48            |United-States |<=50K |\n",
      "|0.0  |(96,[0,6,21,27,40,45,49,50,90,91,92,95],[1.0,1.0,1.0,1.0,1.0,1.0,1.0,1.0,28.0,270973.0,9.0,40.0])          |28 |Private  |270973|HS-grad  |9              |Married-civ-spouse|Craft-repair|Husband     |White|Male  |0           |0           |40            |United-States |<=50K |\n",
      "+-----+-----------------------------------------------------------------------------------------------------------+---+---------+------+---------+---------------+------------------+------------+------------+-----+------+------------+------------+--------------+--------------+------+\n",
      "only showing top 10 rows\n",
      "\n"
     ]
    }
   ],
   "source": [
    "train_synth.show(10,False)"
   ]
  },
  {
   "cell_type": "code",
   "execution_count": null,
   "metadata": {},
   "outputs": [],
   "source": [
    "+-----+-----------------------------------------------------------------------------------------------------------+---+---------+------+---------+---------------+------------------+------------+------------+-----+------+------------+------------+--------------+--------------+------+\n",
    "|label|features                                                                                                   |age|workclass|fnlwgt|education|educational-num|marital-status    |occupation  |relationship|race |gender|capital-gain|capital-loss|hours-per-week|native-country|income|\n",
    "+-----+-----------------------------------------------------------------------------------------------------------+---+---------+------+---------+---------------+------------------+------------+------------+-----+------+------------+------------+--------------+--------------+------+\n",
    "|0.0  |(96,[0,6,21,27,40,45,49,50,90,91,92,93,95],[1.0,1.0,1.0,1.0,1.0,1.0,1.0,1.0,33.0,34574.0,9.0,3908.0,40.0]) |33 |Private  |34574 |HS-grad  |9              |Married-civ-spouse|Craft-repair|Husband     |White|Male  |3908        |0           |40            |United-States |<=50K |\n",
    "|0.0  |(96,[0,6,21,27,40,45,49,50,90,91,92,93,95],[1.0,1.0,1.0,1.0,1.0,1.0,1.0,1.0,50.0,100109.0,9.0,3103.0,40.0])|50 |Private  |100109|HS-grad  |9              |Married-civ-spouse|Craft-repair|Husband     |White|Male  |3103        |0           |40            |United-States |<=50K |\n",
    "|0.0  |(96,[0,6,21,27,40,45,49,50,90,91,92,93,95],[1.0,1.0,1.0,1.0,1.0,1.0,1.0,1.0,68.0,163346.0,9.0,2290.0,16.0])|68 |Private  |163346|HS-grad  |9              |Married-civ-spouse|Craft-repair|Husband     |White|Male  |2290        |0           |16            |United-States |<=50K |\n",
    "|0.0  |(96,[0,6,21,27,40,45,49,50,90,91,92,94,95],[1.0,1.0,1.0,1.0,1.0,1.0,1.0,1.0,20.0,34310.0,9.0,2002.0,35.0]) |20 |Private  |34310 |HS-grad  |9              |Married-civ-spouse|Craft-repair|Husband     |White|Male  |0           |2002        |35            |United-States |<=50K |\n",
    "|0.0  |(96,[0,6,21,27,40,45,49,50,90,91,92,94,95],[1.0,1.0,1.0,1.0,1.0,1.0,1.0,1.0,56.0,174744.0,9.0,1485.0,40.0])|56 |Private  |174744|HS-grad  |9              |Married-civ-spouse|Craft-repair|Husband     |White|Male  |0           |1485        |40            |United-States |<=50K |\n",
    "|0.0  |(96,[0,6,21,27,40,45,49,50,90,91,92,95],[1.0,1.0,1.0,1.0,1.0,1.0,1.0,1.0,18.0,184016.0,9.0,40.0])          |18 |Private  |184016|HS-grad  |9              |Married-civ-spouse|Craft-repair|Husband     |White|Male  |0           |0           |40            |United-States |<=50K |\n",
    "|0.0  |(96,[0,6,21,27,40,45,49,50,90,91,92,95],[1.0,1.0,1.0,1.0,1.0,1.0,1.0,1.0,20.0,34310.0,9.0,25.0])           |20 |Private  |34310 |HS-grad  |9              |Married-civ-spouse|Craft-repair|Husband     |White|Male  |0           |0           |25            |United-States |<=50K |\n",
    "|0.0  |(96,[0,6,21,27,40,45,49,50,90,91,92,95],[1.0,1.0,1.0,1.0,1.0,1.0,1.0,1.0,24.0,509629.0,9.0,40.0])          |24 |Private  |509629|HS-grad  |9              |Married-civ-spouse|Craft-repair|Husband     |White|Male  |0           |0           |40            |United-States |<=50K |\n",
    "|0.0  |(96,[0,6,21,27,40,45,49,50,90,91,92,95],[1.0,1.0,1.0,1.0,1.0,1.0,1.0,1.0,26.0,199143.0,9.0,48.0])          |26 |Private  |199143|HS-grad  |9              |Married-civ-spouse|Craft-repair|Husband     |White|Male  |0           |0           |48            |United-States |<=50K |\n",
    "|0.0  |(96,[0,6,21,27,40,45,49,50,90,91,92,95],[1.0,1.0,1.0,1.0,1.0,1.0,1.0,1.0,28.0,270973.0,9.0,40.0])          |28 |Private  |270973|HS-grad  |9              |Married-civ-spouse|Craft-repair|Husband     |White|Male  |0           |0           |40            |United-States |<=50K |\n",
    "+-----+-----------------------------------------------------------------------------------------------------------+---+---------+------+---------+---------------+------------------+------------+------------+-----+------+------------+------------+--------------+--------------+------+"
   ]
  },
  {
   "cell_type": "code",
   "execution_count": 36,
   "metadata": {
    "tags": []
   },
   "outputs": [],
   "source": [
    "# writing the model\n",
    "from pyspark.ml import PipelineModel\n",
    "mPath = \"synthpop_datasets/models/synth_model_pyspark_30k\"\n",
    "lrModel_synth.write().overwrite().save(mPath)"
   ]
  },
  {
   "cell_type": "code",
   "execution_count": 37,
   "metadata": {
    "tags": []
   },
   "outputs": [],
   "source": [
    "from pyspark.ml.classification import LogisticRegressionModel\n",
    "synth_model_30k = LogisticRegressionModel.load(mPath)"
   ]
  },
  {
   "cell_type": "markdown",
   "metadata": {},
   "source": [
    "#### Predictions on 30% Synthetic data "
   ]
  },
  {
   "cell_type": "code",
   "execution_count": 38,
   "metadata": {
    "tags": []
   },
   "outputs": [
    {
     "name": "stdout",
     "output_type": "stream",
     "text": [
      "Accuracy :  0.839686222516849\n"
     ]
    }
   ],
   "source": [
    "pred_synth_30k = synth_model_30k.transform(test_synth)\n",
    "\n",
    "accuracy = pred_synth_30k.filter(pred_synth_30k.label == pred_synth_30k.prediction).count() / float(pred_synth_30k.count())\n",
    "print(\"Accuracy : \",accuracy)\n"
   ]
  },
  {
   "cell_type": "markdown",
   "metadata": {},
   "source": [
    "#### Pulling up the confusion matrix"
   ]
  },
  {
   "cell_type": "code",
   "execution_count": 39,
   "metadata": {
    "tags": []
   },
   "outputs": [
    {
     "name": "stdout",
     "output_type": "stream",
     "text": [
      "+----------+-----+----+\n",
      "|prediction|label|cnt |\n",
      "+----------+-----+----+\n",
      "|1.0       |1.0  |1317|\n",
      "|0.0       |1.0  |934 |\n",
      "|1.0       |0.0  |517 |\n",
      "|0.0       |0.0  |6283|\n",
      "+----------+-----+----+\n",
      "\n"
     ]
    }
   ],
   "source": [
    "pred_synth_30k.groupBy('prediction','label').agg(F.count('*').alias('cnt')).show(10,False)\n"
   ]
  },
  {
   "cell_type": "markdown",
   "metadata": {},
   "source": [
    "#### Load the synthetic model and predict on 30% original Test data"
   ]
  },
  {
   "cell_type": "code",
   "execution_count": 40,
   "metadata": {
    "tags": []
   },
   "outputs": [],
   "source": [
    "mPath = \"synthpop_datasets/models/synth_model_pyspark_30k\"\n",
    "from pyspark.ml.classification import LogisticRegressionModel\n",
    "synth_model_30k = LogisticRegressionModel.load(mPath)"
   ]
  },
  {
   "cell_type": "code",
   "execution_count": 41,
   "metadata": {
    "tags": []
   },
   "outputs": [],
   "source": [
    "pred_adult_test = synth_model_30k.transform(test_adult)"
   ]
  },
  {
   "cell_type": "code",
   "execution_count": 42,
   "metadata": {
    "tags": []
   },
   "outputs": [
    {
     "name": "stdout",
     "output_type": "stream",
     "text": [
      "+-----+-----------------------------------------------------------------------------------------------------------+---+---------+------+---------+---------------+------------------+--------------+------------+-----+------+------------+------------+--------------+--------------+------+--------------------------------------------+----------------------------------------+----------+\n",
      "|label|features                                                                                                   |age|workclass|fnlwgt|education|educational-num|marital-status    |occupation    |relationship|race |gender|capital-gain|capital-loss|hours-per-week|native-country|income|rawPrediction                               |probability                             |prediction|\n",
      "+-----+-----------------------------------------------------------------------------------------------------------+---+---------+------+---------+---------------+------------------+--------------+------------+-----+------+------------+------------+--------------+--------------+------+--------------------------------------------+----------------------------------------+----------+\n",
      "|0.0  |(96,[0,6,21,27,40,45,49,50,90,91,92,94,95],[1.0,1.0,1.0,1.0,1.0,1.0,1.0,1.0,32.0,130304.0,9.0,1485.0,48.0])|32 |Private  |130304|HS-grad  |9              |Married-civ-spouse|Prof-specialty|Husband     |White|Male  |0           |1485        |48            |United-States |<=50K |[0.2194373095598161,-0.2194373095598161]    |[0.5546402467182455,0.4453597532817545] |0.0       |\n",
      "|0.0  |(96,[0,6,21,28,40,45,49,50,90,91,92,95],[1.0,1.0,1.0,1.0,1.0,1.0,1.0,1.0,27.0,96226.0,9.0,70.0])           |27 |Private  |96226 |HS-grad  |9              |Married-civ-spouse|Craft-repair  |Husband     |White|Male  |0           |0           |70            |United-States |<=50K |[0.09076470356995348,-0.09076470356995348]  |[0.5226756107854196,0.4773243892145804] |0.0       |\n",
      "|0.0  |(96,[0,6,21,28,40,45,49,50,90,91,92,95],[1.0,1.0,1.0,1.0,1.0,1.0,1.0,1.0,27.0,297296.0,9.0,40.0])          |27 |Private  |297296|HS-grad  |9              |Married-civ-spouse|Craft-repair  |Husband     |White|Male  |0           |0           |40            |United-States |<=50K |[0.7206535644000356,-0.7206535644000356]    |[0.6727509201656252,0.3272490798343748] |0.0       |\n",
      "|0.0  |(96,[0,6,21,28,40,45,49,50,90,91,92,95],[1.0,1.0,1.0,1.0,1.0,1.0,1.0,1.0,27.0,588905.0,9.0,40.0])          |27 |Private  |588905|HS-grad  |9              |Married-civ-spouse|Craft-repair  |Husband     |White|Male  |0           |0           |40            |United-States |<=50K |[0.5099626231218011,-0.5099626231218011]    |[0.6247977124147833,0.3752022875852167] |0.0       |\n",
      "|0.0  |(96,[0,6,21,28,40,45,49,50,90,91,92,95],[1.0,1.0,1.0,1.0,1.0,1.0,1.0,1.0,30.0,236770.0,9.0,40.0])          |30 |Private  |236770|HS-grad  |9              |Married-civ-spouse|Craft-repair  |Husband     |White|Male  |0           |0           |40            |United-States |<=50K |[0.6756292014361973,-0.6756292014361973]    |[0.6627624833590029,0.3372375166409971] |0.0       |\n",
      "|0.0  |(96,[0,6,21,28,40,45,49,50,90,91,92,95],[1.0,1.0,1.0,1.0,1.0,1.0,1.0,1.0,34.0,106742.0,9.0,45.0])          |34 |Private  |106742|HS-grad  |9              |Married-civ-spouse|Craft-repair  |Husband     |White|Male  |0           |0           |45            |United-States |<=50K |[0.5220417646766533,-0.5220417646766533]    |[0.6276250751045253,0.37237492489547475]|0.0       |\n",
      "|0.0  |(96,[0,6,21,28,40,45,49,50,90,91,92,95],[1.0,1.0,1.0,1.0,1.0,1.0,1.0,1.0,35.0,181382.0,9.0,43.0])          |35 |Private  |181382|HS-grad  |9              |Married-civ-spouse|Craft-repair  |Husband     |White|Male  |0           |0           |43            |United-States |<=50K |[0.49020606771459363,-0.49020606771459363]  |[0.6201549754289534,0.37984502457104663]|0.0       |\n",
      "|0.0  |(96,[0,6,21,28,40,45,49,50,90,91,92,95],[1.0,1.0,1.0,1.0,1.0,1.0,1.0,1.0,43.0,413297.0,9.0,45.0])          |43 |Private  |413297|HS-grad  |9              |Married-civ-spouse|Craft-repair  |Husband     |White|Male  |0           |0           |45            |United-States |<=50K |[0.03428682701171848,-0.03428682701171848]  |[0.5085708671197359,0.49142913288026413]|0.0       |\n",
      "|0.0  |(96,[0,6,21,28,40,45,49,50,90,91,92,95],[1.0,1.0,1.0,1.0,1.0,1.0,1.0,1.0,44.0,222434.0,9.0,40.0])          |44 |Private  |222434|HS-grad  |9              |Married-civ-spouse|Craft-repair  |Husband     |White|Male  |0           |0           |40            |United-States |<=50K |[0.2717966091681232,-0.2717966091681232]    |[0.5675339166189083,0.4324660833810917] |0.0       |\n",
      "|0.0  |(96,[0,6,21,28,40,45,49,50,90,91,92,95],[1.0,1.0,1.0,1.0,1.0,1.0,1.0,1.0,47.0,198901.0,9.0,48.0])          |47 |Private  |198901|HS-grad  |9              |Married-civ-spouse|Craft-repair  |Husband     |White|Male  |0           |0           |48            |United-States |<=50K |[-0.006666114381988386,0.006666114381988386]|[0.498333477575781,0.5016665224242189]  |1.0       |\n",
      "+-----+-----------------------------------------------------------------------------------------------------------+---+---------+------+---------+---------------+------------------+--------------+------------+-----+------+------------+------------+--------------+--------------+------+--------------------------------------------+----------------------------------------+----------+\n",
      "only showing top 10 rows\n",
      "\n"
     ]
    }
   ],
   "source": [
    "pred_adult_test.show(10,False)"
   ]
  },
  {
   "cell_type": "code",
   "execution_count": 43,
   "metadata": {
    "tags": []
   },
   "outputs": [
    {
     "name": "stdout",
     "output_type": "stream",
     "text": [
      "+----------+-----+----+\n",
      "|prediction|label|cnt |\n",
      "+----------+-----+----+\n",
      "|1.0       |1.0  |1343|\n",
      "|0.0       |1.0  |923 |\n",
      "|1.0       |0.0  |487 |\n",
      "|0.0       |0.0  |6332|\n",
      "+----------+-----+----+\n",
      "\n"
     ]
    }
   ],
   "source": [
    "pred_adult_test.groupBy('prediction','label').agg(F.count('*').alias('cnt')).show(10,False)"
   ]
  },
  {
   "cell_type": "code",
   "execution_count": 44,
   "metadata": {
    "tags": []
   },
   "outputs": [
    {
     "name": "stdout",
     "output_type": "stream",
     "text": [
      "Accuracy :  0.844799119427628\n"
     ]
    }
   ],
   "source": [
    "accuracy = pred_adult_test.filter(pred_adult_test.label == pred_adult_test.prediction).count() / float(pred_adult_test.count())\n",
    "print(\"Accuracy : \",accuracy)\n"
   ]
  },
  {
   "cell_type": "markdown",
   "metadata": {},
   "source": [
    "#### Approach1:\n",
    "#### Generate 10k from the original data and create a logistic model"
   ]
  },
  {
   "cell_type": "code",
   "execution_count": 69,
   "metadata": {
    "tags": []
   },
   "outputs": [],
   "source": [
    "synth_df_10k = pd.read_csv(\"synthpop_datasets/synth_10k\")"
   ]
  },
  {
   "cell_type": "code",
   "execution_count": 70,
   "metadata": {
    "tags": []
   },
   "outputs": [
    {
     "name": "stderr",
     "output_type": "stream",
     "text": [
      "/usr/local/spark/python/pyspark/sql/pandas/conversion.py:474: FutureWarning: iteritems is deprecated and will be removed in a future version. Use .items instead.\n",
      "  for column, series in pdf.iteritems():\n",
      "/usr/local/spark/python/pyspark/sql/pandas/conversion.py:486: FutureWarning: iteritems is deprecated and will be removed in a future version. Use .items instead.\n",
      "  for column, series in pdf.iteritems():\n"
     ]
    }
   ],
   "source": [
    "synth_spark_df_10k = spark.createDataFrame(synth_df_10k)"
   ]
  },
  {
   "cell_type": "code",
   "execution_count": 73,
   "metadata": {
    "tags": []
   },
   "outputs": [
    {
     "name": "stdout",
     "output_type": "stream",
     "text": [
      "Training Dataset Count: 7992\n",
      "Test Dataset Count: 2008\n"
     ]
    }
   ],
   "source": [
    "## Listing out all the columns\n",
    "cols = synth_spark_df_10k.columns\n",
    "\n",
    "from pyspark.ml.feature import OneHotEncoder, StringIndexer, VectorAssembler\n",
    "categoricalColumns = ['workclass','education','marital-status','occupation','relationship','race','gender','native-country']\n",
    "stages = []\n",
    "for categoricalCol in categoricalColumns:\n",
    "    stringIndexer = StringIndexer(inputCol = categoricalCol, outputCol = categoricalCol + 'Index')\n",
    "    encoder = OneHotEncoder(inputCols=[stringIndexer.getOutputCol()], outputCols=[categoricalCol + \"classVec\"])\n",
    "    stages += [stringIndexer, encoder]\n",
    "label_stringIdx = StringIndexer(inputCol = 'income', outputCol = 'label')\n",
    "stages += [label_stringIdx]\n",
    "numericCols = ['age','fnlwgt','educational-num','capital-gain','capital-loss','hours-per-week']\n",
    "assemblerInputs = [c + \"classVec\" for c in categoricalColumns] + numericCols\n",
    "assembler = VectorAssembler(inputCols=assemblerInputs, outputCol=\"features\")\n",
    "stages += [assembler]\n",
    "\n",
    "from pyspark.ml import Pipeline\n",
    "pipeline_10k = Pipeline(stages = stages)\n",
    "pipelineModel_10k = pipeline_10k.fit(synth_spark_df_10k)\n",
    "synth_df1_10k = pipelineModel_10k.transform(synth_spark_df_10k)\n",
    "selectedCols = ['label', 'features'] + cols\n",
    "synth_df1_10k = synth_df1_10k.select(selectedCols)\n",
    "\n",
    "train_synth_10k, test_synth_10k = synth_df1_10k.randomSplit([0.8, 0.2], seed = 2018)\n",
    "print(\"Training Dataset Count: \" + str(train_synth_10k.count()))\n",
    "print(\"Test Dataset Count: \" + str(test_synth_10k.count()))\n",
    "\n",
    "from pyspark.ml.classification import LogisticRegression\n",
    "lr_10k = LogisticRegression(featuresCol = 'features', labelCol = 'label', maxIter=10)\n",
    "lrModel_10k = lr_10k.fit(train_synth_10k)\n"
   ]
  },
  {
   "cell_type": "markdown",
   "metadata": {},
   "source": [
    "#### Save the Model"
   ]
  },
  {
   "cell_type": "code",
   "execution_count": 74,
   "metadata": {
    "tags": []
   },
   "outputs": [],
   "source": [
    "# writing the model\n",
    "from pyspark.ml import PipelineModel\n",
    "mPath = \"synthpop_datasets/models/synth_model_pyspark_10k\"\n",
    "lrModel_10k.write().overwrite().save(mPath)"
   ]
  },
  {
   "cell_type": "markdown",
   "metadata": {},
   "source": [
    "#### Load the Model"
   ]
  },
  {
   "cell_type": "code",
   "execution_count": 75,
   "metadata": {
    "tags": []
   },
   "outputs": [],
   "source": [
    "from pyspark.ml.classification import LogisticRegressionModel\n",
    "synth_model_10k = LogisticRegressionModel.load(mPath)"
   ]
  },
  {
   "cell_type": "code",
   "execution_count": 76,
   "metadata": {
    "tags": []
   },
   "outputs": [
    {
     "name": "stdout",
     "output_type": "stream",
     "text": [
      "Accuracy :  0.8351593625498008\n"
     ]
    }
   ],
   "source": [
    "pred_synth_10k = synth_model_10k.transform(test_synth_10k)\n",
    "\n",
    "accuracy = pred_synth_10k.filter(pred_synth_10k.label == pred_synth_10k.prediction).count() / float(pred_synth_10k.count())\n",
    "print(\"Accuracy : \",accuracy)\n"
   ]
  },
  {
   "cell_type": "code",
   "execution_count": 77,
   "metadata": {
    "tags": []
   },
   "outputs": [
    {
     "name": "stdout",
     "output_type": "stream",
     "text": [
      "Confusion matrix, without normalization\n",
      "[[ 312  221]\n",
      " [ 110 1365]]\n"
     ]
    },
    {
     "data": {
      "image/png": "[encoded data removed]",
      "text/plain": [
       "<Figure size 640x480 with 2 Axes>"
      ]
     },
     "metadata": {},
     "output_type": "display_data"
    }
   ],
   "source": [
    "class_names=[1.0,0.0]\n",
    "import itertools\n",
    "def plot_confusion_matrix(cm, classes,\n",
    "                          normalize=False,\n",
    "                          title='Confusion matrix',\n",
    "                          cmap=plt.cm.Blues):\n",
    "    \"\"\"\n",
    "    This function prints and plots the confusion matrix.\n",
    "    Normalization can be applied by setting `normalize=True`.\n",
    "    \"\"\"\n",
    "    if normalize:\n",
    "        cm = cm.astype('float') / cm.sum(axis=1)[:, np.newaxis]\n",
    "        print(\"Normalized confusion matrix\")\n",
    "    else:\n",
    "        print('Confusion matrix, without normalization')\n",
    "\n",
    "    print(cm)\n",
    "\n",
    "    plt.imshow(cm, interpolation='nearest', cmap=cmap)\n",
    "    plt.title(title)\n",
    "    plt.colorbar()\n",
    "    tick_marks = np.arange(len(classes))\n",
    "    plt.xticks(tick_marks, classes, rotation=45)\n",
    "    plt.yticks(tick_marks, classes)\n",
    "\n",
    "    fmt = '.2f' if normalize else 'd'\n",
    "    thresh = cm.max() / 2.\n",
    "    for i, j in itertools.product(range(cm.shape[0]), range(cm.shape[1])):\n",
    "        plt.text(j, i, format(cm[i, j], fmt),\n",
    "                 horizontalalignment=\"center\",\n",
    "                 color=\"white\" if cm[i, j] > thresh else \"black\")\n",
    "\n",
    "    plt.tight_layout()\n",
    "    plt.ylabel('True label')\n",
    "    plt.xlabel('Predicted label')\n",
    "\n",
    "y_true = pred_synth_10k.select(\"label\")\n",
    "y_true = y_true.toPandas()\n",
    "\n",
    "y_pred = pred_synth_10k.select(\"prediction\")\n",
    "y_pred = y_pred.toPandas()\n",
    "\n",
    "cnf_matrix = confusion_matrix(y_true, y_pred,labels=class_names)\n",
    "#cnf_matrix\n",
    "plt.figure()\n",
    "plot_confusion_matrix(cnf_matrix, classes=class_names,\n",
    "                      title='Confusion matrix')\n",
    "plt.show()\n"
   ]
  },
  {
   "cell_type": "code",
   "execution_count": 78,
   "metadata": {
    "tags": []
   },
   "outputs": [
    {
     "name": "stdout",
     "output_type": "stream",
     "text": [
      "+----------+-----+----+\n",
      "|prediction|label|cnt |\n",
      "+----------+-----+----+\n",
      "|1.0       |1.0  |312 |\n",
      "|0.0       |1.0  |221 |\n",
      "|1.0       |0.0  |110 |\n",
      "|0.0       |0.0  |1365|\n",
      "+----------+-----+----+\n",
      "\n"
     ]
    }
   ],
   "source": [
    "pred_synth_10k.groupBy('prediction','label').agg(F.count('*').alias('cnt')).show(10,False)\n"
   ]
  },
  {
   "cell_type": "markdown",
   "metadata": {},
   "source": [
    "#### Approach2:\n",
    "#### Generate 15k from the original data and create a logistic model"
   ]
  },
  {
   "cell_type": "code",
   "execution_count": 79,
   "metadata": {
    "tags": []
   },
   "outputs": [],
   "source": [
    "synth_df_15k = pd.read_csv(\"synthpop_datasets/synth_15k\")"
   ]
  },
  {
   "cell_type": "code",
   "execution_count": 80,
   "metadata": {
    "tags": []
   },
   "outputs": [
    {
     "name": "stderr",
     "output_type": "stream",
     "text": [
      "/usr/local/spark/python/pyspark/sql/pandas/conversion.py:474: FutureWarning: iteritems is deprecated and will be removed in a future version. Use .items instead.\n",
      "  for column, series in pdf.iteritems():\n",
      "/usr/local/spark/python/pyspark/sql/pandas/conversion.py:486: FutureWarning: iteritems is deprecated and will be removed in a future version. Use .items instead.\n",
      "  for column, series in pdf.iteritems():\n"
     ]
    }
   ],
   "source": [
    "synth_spark_df_15k = spark.createDataFrame(synth_df_15k)"
   ]
  },
  {
   "cell_type": "code",
   "execution_count": 82,
   "metadata": {
    "tags": []
   },
   "outputs": [
    {
     "name": "stdout",
     "output_type": "stream",
     "text": [
      "Training Dataset Count: 11981\n",
      "Test Dataset Count: 3019\n"
     ]
    }
   ],
   "source": [
    "## Listing out all the columns\n",
    "cols = synth_spark_df_15k.columns\n",
    "\n",
    "from pyspark.ml.feature import OneHotEncoder, StringIndexer, VectorAssembler\n",
    "categoricalColumns = ['workclass','education','marital-status','occupation','relationship','race','gender','native-country']\n",
    "stages = []\n",
    "for categoricalCol in categoricalColumns:\n",
    "    stringIndexer = StringIndexer(inputCol = categoricalCol, outputCol = categoricalCol + 'Index')\n",
    "    encoder = OneHotEncoder(inputCols=[stringIndexer.getOutputCol()], outputCols=[categoricalCol + \"classVec\"])\n",
    "    stages += [stringIndexer, encoder]\n",
    "label_stringIdx = StringIndexer(inputCol = 'income', outputCol = 'label')\n",
    "stages += [label_stringIdx]\n",
    "numericCols = ['age','fnlwgt','educational-num','capital-gain','capital-loss','hours-per-week']\n",
    "assemblerInputs = [c + \"classVec\" for c in categoricalColumns] + numericCols\n",
    "assembler = VectorAssembler(inputCols=assemblerInputs, outputCol=\"features\")\n",
    "stages += [assembler]\n",
    "\n",
    "from pyspark.ml import Pipeline\n",
    "pipeline_15k = Pipeline(stages = stages)\n",
    "pipelineModel_15k = pipeline_15k.fit(synth_spark_df_15k)\n",
    "synth_df1_15k = pipelineModel_15k.transform(synth_spark_df_15k)\n",
    "selectedCols = ['label', 'features'] + cols\n",
    "synth_df1_15k = synth_df1_15k.select(selectedCols)\n",
    "\n",
    "train_synth_15k, test_synth_15k = synth_df1_15k.randomSplit([0.8, 0.2], seed = 2018)\n",
    "print(\"Training Dataset Count: \" + str(train_synth_15k.count()))\n",
    "print(\"Test Dataset Count: \" + str(test_synth_15k.count()))\n",
    "\n",
    "from pyspark.ml.classification import LogisticRegression\n",
    "lr_15k = LogisticRegression(featuresCol = 'features', labelCol = 'label', maxIter=10)\n",
    "lrModel_15k = lr_15k.fit(train_synth_15k)\n"
   ]
  },
  {
   "cell_type": "markdown",
   "metadata": {},
   "source": [
    "#### Save the Model"
   ]
  },
  {
   "cell_type": "code",
   "execution_count": 35,
   "metadata": {},
   "outputs": [],
   "source": [
    "# writing the model\n",
    "from pyspark.ml import PipelineModel\n",
    "mPath = \"gs://vifl-rnd-ayyappa/synthpop_datasets/models/synth_model_pyspark_15k\"\n",
    "lrModel_15k.write().overwrite().save(mPath)"
   ]
  },
  {
   "cell_type": "markdown",
   "metadata": {},
   "source": [
    "#### Load the Model"
   ]
  },
  {
   "cell_type": "code",
   "execution_count": 36,
   "metadata": {},
   "outputs": [],
   "source": [
    "from pyspark.ml.classification import LogisticRegressionModel\n",
    "synth_model_15k = LogisticRegressionModel.load(mPath)"
   ]
  },
  {
   "cell_type": "code",
   "execution_count": 37,
   "metadata": {},
   "outputs": [
    {
     "name": "stdout",
     "output_type": "stream",
     "text": [
      "Accuracy :  0.8466421650517875\n"
     ]
    }
   ],
   "source": [
    "pred_synth_15k = synth_model_15k.transform(test_synth_15k)\n",
    "\n",
    "accuracy = pred_synth_15k.filter(pred_synth_15k.label == pred_synth_15k.prediction).count() / float(pred_synth_15k.count())\n",
    "print(\"Accuracy : \",accuracy)\n"
   ]
  },
  {
   "cell_type": "code",
   "execution_count": 38,
   "metadata": {},
   "outputs": [
    {
     "name": "stdout",
     "output_type": "stream",
     "text": [
      "Confusion matrix, without normalization\n",
      "[[ 419  308]\n",
      " [ 151 2115]]\n"
     ]
    },
    {
     "data": {
      "image/png": "[encoded data removed]",
      "text/plain": [
       "<Figure size 432x288 with 2 Axes>"
      ]
     },
     "metadata": {
      "needs_background": "light"
     },
     "output_type": "display_data"
    }
   ],
   "source": [
    "class_names=[1.0,0.0]\n",
    "import itertools\n",
    "def plot_confusion_matrix(cm, classes,\n",
    "                          normalize=False,\n",
    "                          title='Confusion matrix',\n",
    "                          cmap=plt.cm.Blues):\n",
    "    \"\"\"\n",
    "    This function prints and plots the confusion matrix.\n",
    "    Normalization can be applied by setting `normalize=True`.\n",
    "    \"\"\"\n",
    "    if normalize:\n",
    "        cm = cm.astype('float') / cm.sum(axis=1)[:, np.newaxis]\n",
    "        print(\"Normalized confusion matrix\")\n",
    "    else:\n",
    "        print('Confusion matrix, without normalization')\n",
    "\n",
    "    print(cm)\n",
    "\n",
    "    plt.imshow(cm, interpolation='nearest', cmap=cmap)\n",
    "    plt.title(title)\n",
    "    plt.colorbar()\n",
    "    tick_marks = np.arange(len(classes))\n",
    "    plt.xticks(tick_marks, classes, rotation=45)\n",
    "    plt.yticks(tick_marks, classes)\n",
    "\n",
    "    fmt = '.2f' if normalize else 'd'\n",
    "    thresh = cm.max() / 2.\n",
    "    for i, j in itertools.product(range(cm.shape[0]), range(cm.shape[1])):\n",
    "        plt.text(j, i, format(cm[i, j], fmt),\n",
    "                 horizontalalignment=\"center\",\n",
    "                 color=\"white\" if cm[i, j] > thresh else \"black\")\n",
    "\n",
    "    plt.tight_layout()\n",
    "    plt.ylabel('True label')\n",
    "    plt.xlabel('Predicted label')\n",
    "\n",
    "y_true = pred_synth_15k.select(\"label\")\n",
    "y_true = y_true.toPandas()\n",
    "\n",
    "y_pred = pred_synth_15k.select(\"prediction\")\n",
    "y_pred = y_pred.toPandas()\n",
    "\n",
    "cnf_matrix = confusion_matrix(y_true, y_pred,labels=class_names)\n",
    "#cnf_matrix\n",
    "plt.figure()\n",
    "plot_confusion_matrix(cnf_matrix, classes=class_names,\n",
    "                      title='Confusion matrix')\n",
    "plt.show()\n"
   ]
  },
  {
   "cell_type": "code",
   "execution_count": 39,
   "metadata": {},
   "outputs": [
    {
     "name": "stdout",
     "output_type": "stream",
     "text": [
      "+----------+-----+----+\n",
      "|prediction|label|cnt |\n",
      "+----------+-----+----+\n",
      "|1.0       |1.0  |419 |\n",
      "|0.0       |1.0  |308 |\n",
      "|1.0       |0.0  |151 |\n",
      "|0.0       |0.0  |2115|\n",
      "+----------+-----+----+\n",
      "\n"
     ]
    }
   ],
   "source": [
    "pred_synth_15k.groupBy('prediction','label').agg(F.count('*').alias('cnt')).show(10,False)\n"
   ]
  },
  {
   "cell_type": "markdown",
   "metadata": {},
   "source": [
    "#### Approach3:\n",
    "#### Generate 20k from the original data and create a logistic model"
   ]
  },
  {
   "cell_type": "code",
   "execution_count": 83,
   "metadata": {
    "tags": []
   },
   "outputs": [],
   "source": [
    "synth_df_20k = pd.read_csv(\"synthpop_datasets/synth_20k\")"
   ]
  },
  {
   "cell_type": "code",
   "execution_count": 84,
   "metadata": {
    "tags": []
   },
   "outputs": [
    {
     "name": "stderr",
     "output_type": "stream",
     "text": [
      "/usr/local/spark/python/pyspark/sql/pandas/conversion.py:474: FutureWarning: iteritems is deprecated and will be removed in a future version. Use .items instead.\n",
      "  for column, series in pdf.iteritems():\n",
      "/usr/local/spark/python/pyspark/sql/pandas/conversion.py:486: FutureWarning: iteritems is deprecated and will be removed in a future version. Use .items instead.\n",
      "  for column, series in pdf.iteritems():\n"
     ]
    }
   ],
   "source": [
    "synth_spark_df_20k = spark.createDataFrame(synth_df_20k)"
   ]
  },
  {
   "cell_type": "code",
   "execution_count": 85,
   "metadata": {
    "tags": []
   },
   "outputs": [
    {
     "name": "stdout",
     "output_type": "stream",
     "text": [
      "Training Dataset Count: 15960\n",
      "Test Dataset Count: 4040\n"
     ]
    }
   ],
   "source": [
    "## Listing out all the columns\n",
    "cols = synth_spark_df_20k.columns\n",
    "\n",
    "from pyspark.ml.feature import OneHotEncoder, StringIndexer, VectorAssembler\n",
    "categoricalColumns = ['workclass','education','marital-status','occupation','relationship','race','gender','native-country']\n",
    "stages = []\n",
    "for categoricalCol in categoricalColumns:\n",
    "    stringIndexer = StringIndexer(inputCol = categoricalCol, outputCol = categoricalCol + 'Index')\n",
    "    encoder = OneHotEncoder(inputCols=[stringIndexer.getOutputCol()], outputCols=[categoricalCol + \"classVec\"])\n",
    "    stages += [stringIndexer, encoder]\n",
    "label_stringIdx = StringIndexer(inputCol = 'income', outputCol = 'label')\n",
    "stages += [label_stringIdx]\n",
    "numericCols = ['age','fnlwgt','educational-num','capital-gain','capital-loss','hours-per-week']\n",
    "assemblerInputs = [c + \"classVec\" for c in categoricalColumns] + numericCols\n",
    "assembler = VectorAssembler(inputCols=assemblerInputs, outputCol=\"features\")\n",
    "stages += [assembler]\n",
    "\n",
    "from pyspark.ml import Pipeline\n",
    "pipeline_20k = Pipeline(stages = stages)\n",
    "pipelineModel_20k = pipeline_20k.fit(synth_spark_df_20k)\n",
    "synth_df1_20k = pipelineModel_20k.transform(synth_spark_df_20k)\n",
    "selectedCols = ['label', 'features'] + cols\n",
    "synth_df1_20k = synth_df1_20k.select(selectedCols)\n",
    "\n",
    "train_synth_20k, test_synth_20k = synth_df1_20k.randomSplit([0.8, 0.2], seed = 2018)\n",
    "print(\"Training Dataset Count: \" + str(train_synth_20k.count()))\n",
    "print(\"Test Dataset Count: \" + str(test_synth_20k.count()))\n",
    "\n",
    "from pyspark.ml.classification import LogisticRegression\n",
    "lr_20k = LogisticRegression(featuresCol = 'features', labelCol = 'label', maxIter=10)\n",
    "lrModel_20k = lr_20k.fit(train_synth_20k)\n"
   ]
  },
  {
   "cell_type": "markdown",
   "metadata": {},
   "source": [
    "#### Load and Save the Model"
   ]
  },
  {
   "cell_type": "code",
   "execution_count": 86,
   "metadata": {
    "tags": []
   },
   "outputs": [],
   "source": [
    "# writing the model\n",
    "from pyspark.ml import PipelineModel\n",
    "mPath = \"synthpop_datasets/models/synth_model_pyspark_20k\"\n",
    "lrModel_20k.write().overwrite().save(mPath)\n",
    "\n",
    "from pyspark.ml.classification import LogisticRegressionModel\n",
    "synth_model_20k = LogisticRegressionModel.load(mPath)"
   ]
  },
  {
   "cell_type": "markdown",
   "metadata": {},
   "source": [
    "#### Predictions on Test data"
   ]
  },
  {
   "cell_type": "code",
   "execution_count": 87,
   "metadata": {
    "tags": []
   },
   "outputs": [
    {
     "name": "stdout",
     "output_type": "stream",
     "text": [
      "Accuracy :  0.843069306930693\n"
     ]
    }
   ],
   "source": [
    "pred_synth_20k = synth_model_20k.transform(test_synth_20k)\n",
    "\n",
    "accuracy = pred_synth_20k.filter(pred_synth_20k.label == pred_synth_20k.prediction).count() / float(pred_synth_20k.count())\n",
    "print(\"Accuracy : \",accuracy)\n"
   ]
  },
  {
   "cell_type": "code",
   "execution_count": 88,
   "metadata": {
    "tags": []
   },
   "outputs": [
    {
     "name": "stdout",
     "output_type": "stream",
     "text": [
      "Confusion matrix, without normalization\n",
      "[[ 584  431]\n",
      " [ 203 2822]]\n"
     ]
    },
    {
     "data": {
      "image/png": "[encoded data removed]",
      "text/plain": [
       "<Figure size 640x480 with 2 Axes>"
      ]
     },
     "metadata": {},
     "output_type": "display_data"
    }
   ],
   "source": [
    "class_names=[1.0,0.0]\n",
    "import itertools\n",
    "def plot_confusion_matrix(cm, classes,\n",
    "                          normalize=False,\n",
    "                          title='Confusion matrix',\n",
    "                          cmap=plt.cm.Blues):\n",
    "    \"\"\"\n",
    "    This function prints and plots the confusion matrix.\n",
    "    Normalization can be applied by setting `normalize=True`.\n",
    "    \"\"\"\n",
    "    if normalize:\n",
    "        cm = cm.astype('float') / cm.sum(axis=1)[:, np.newaxis]\n",
    "        print(\"Normalized confusion matrix\")\n",
    "    else:\n",
    "        print('Confusion matrix, without normalization')\n",
    "\n",
    "    print(cm)\n",
    "\n",
    "    plt.imshow(cm, interpolation='nearest', cmap=cmap)\n",
    "    plt.title(title)\n",
    "    plt.colorbar()\n",
    "    tick_marks = np.arange(len(classes))\n",
    "    plt.xticks(tick_marks, classes, rotation=45)\n",
    "    plt.yticks(tick_marks, classes)\n",
    "\n",
    "    fmt = '.2f' if normalize else 'd'\n",
    "    thresh = cm.max() / 2.\n",
    "    for i, j in itertools.product(range(cm.shape[0]), range(cm.shape[1])):\n",
    "        plt.text(j, i, format(cm[i, j], fmt),\n",
    "                 horizontalalignment=\"center\",\n",
    "                 color=\"white\" if cm[i, j] > thresh else \"black\")\n",
    "\n",
    "    plt.tight_layout()\n",
    "    plt.ylabel('True label')\n",
    "    plt.xlabel('Predicted label')\n",
    "\n",
    "y_true = pred_synth_20k.select(\"label\")\n",
    "y_true = y_true.toPandas()\n",
    "\n",
    "y_pred = pred_synth_20k.select(\"prediction\")\n",
    "y_pred = y_pred.toPandas()\n",
    "\n",
    "cnf_matrix = confusion_matrix(y_true, y_pred,labels=class_names)\n",
    "#cnf_matrix\n",
    "plt.figure()\n",
    "plot_confusion_matrix(cnf_matrix, classes=class_names,\n",
    "                      title='Confusion matrix')\n",
    "plt.show()\n"
   ]
  },
  {
   "cell_type": "code",
   "execution_count": 89,
   "metadata": {
    "tags": []
   },
   "outputs": [
    {
     "name": "stdout",
     "output_type": "stream",
     "text": [
      "+----------+-----+----+\n",
      "|prediction|label|cnt |\n",
      "+----------+-----+----+\n",
      "|1.0       |1.0  |584 |\n",
      "|0.0       |1.0  |431 |\n",
      "|1.0       |0.0  |203 |\n",
      "|0.0       |0.0  |2822|\n",
      "+----------+-----+----+\n",
      "\n"
     ]
    }
   ],
   "source": [
    "pred_synth_20k.groupBy('prediction','label').agg(F.count('*').alias('cnt')).show(10,False)"
   ]
  },
  {
   "cell_type": "markdown",
   "metadata": {},
   "source": [
    "#### Loading the synthetic model(10k) and predict on original data of 10k"
   ]
  },
  {
   "cell_type": "code",
   "execution_count": 90,
   "metadata": {
    "tags": []
   },
   "outputs": [],
   "source": [
    "sample_adult_df_10k = adult_spark_preprocessed_df.sample(False,0.33028,seed=123) #10k"
   ]
  },
  {
   "cell_type": "code",
   "execution_count": 91,
   "metadata": {
    "tags": []
   },
   "outputs": [],
   "source": [
    "#sample_adult_df_10k.write.mode('overwrite').parquet('gs://vifl-rnd-ayyappa/synthpop_datasets/adult_10k')\n",
    "sample_adult_df_10k = spark.read.parquet('synthpop_datasets/adult_10k')"
   ]
  },
  {
   "cell_type": "code",
   "execution_count": 92,
   "metadata": {
    "tags": []
   },
   "outputs": [],
   "source": [
    "## Listing out all the columns\n",
    "cols = sample_adult_df_10k.columns\n",
    "\n",
    "from pyspark.ml.feature import OneHotEncoder, StringIndexer, VectorAssembler\n",
    "categoricalColumns = ['workclass','education','marital-status','occupation','relationship','race','gender','native-country']\n",
    "stages = []\n",
    "for categoricalCol in categoricalColumns:\n",
    "    stringIndexer = StringIndexer(inputCol = categoricalCol, outputCol = categoricalCol + 'Index')\n",
    "    encoder = OneHotEncoder(inputCols=[stringIndexer.getOutputCol()], outputCols=[categoricalCol + \"classVec\"])\n",
    "    stages += [stringIndexer, encoder]\n",
    "label_stringIdx = StringIndexer(inputCol = 'income', outputCol = 'label')\n",
    "stages += [label_stringIdx]\n",
    "numericCols = ['age','fnlwgt','educational-num','capital-gain','capital-loss','hours-per-week']\n",
    "assemblerInputs = [c + \"classVec\" for c in categoricalColumns] + numericCols\n",
    "assembler = VectorAssembler(inputCols=assemblerInputs, outputCol=\"features\")\n",
    "stages += [assembler]\n",
    "\n",
    "from pyspark.ml import Pipeline\n",
    "pipeline_adult_10k = Pipeline(stages = stages)\n",
    "pipelineModel_adult_10k = pipeline_adult_10k.fit(sample_adult_df_10k)\n",
    "adult_df1_10k = pipelineModel_adult_10k.transform(sample_adult_df_10k)\n",
    "selectedCols = ['label', 'features'] + cols\n",
    "adult_df1_10k = adult_df1_10k.select(selectedCols)\n"
   ]
  },
  {
   "cell_type": "code",
   "execution_count": 93,
   "metadata": {
    "tags": []
   },
   "outputs": [
    {
     "data": {
      "text/plain": [
       "17"
      ]
     },
     "execution_count": 93,
     "metadata": {},
     "output_type": "execute_result"
    }
   ],
   "source": [
    "len(adult_df1_10k.columns)"
   ]
  },
  {
   "cell_type": "code",
   "execution_count": 94,
   "metadata": {
    "tags": []
   },
   "outputs": [
    {
     "name": "stdout",
     "output_type": "stream",
     "text": [
      "Training Dataset Count: 7969\n",
      "Test Dataset Count: 2031\n"
     ]
    }
   ],
   "source": [
    "train_adult_10k, test_adult_10k = adult_df1_10k.randomSplit([0.79845, 0.20155], seed = 2018)\n",
    "print(\"Training Dataset Count: \" + str(train_adult_10k.count()))\n",
    "print(\"Test Dataset Count: \" + str(test_adult_10k.count()))"
   ]
  },
  {
   "cell_type": "code",
   "execution_count": 75,
   "metadata": {},
   "outputs": [],
   "source": [
    "#train_adult_10k.write.mode('overwrite').parquet('gs://vifl-rnd-ayyappa/synthpop_datasets/train_adult_10k')\n",
    "#test_adult_10k.write.mode('overwrite').parquet('gs://vifl-rnd-ayyappa/synthpop_datasets/test_adult_10k')"
   ]
  },
  {
   "cell_type": "code",
   "execution_count": 95,
   "metadata": {
    "tags": []
   },
   "outputs": [],
   "source": [
    "train_adult_10k = spark.read.parquet('synthpop_datasets/train_adult_10k')\n",
    "test_adult_10k = spark.read.parquet('synthpop_datasets/test_adult_10k')"
   ]
  },
  {
   "cell_type": "markdown",
   "metadata": {},
   "source": [
    "#### Load the synthetic model"
   ]
  },
  {
   "cell_type": "code",
   "execution_count": null,
   "metadata": {},
   "outputs": [],
   "source": [
    "#7978 , 2022"
   ]
  },
  {
   "cell_type": "code",
   "execution_count": 96,
   "metadata": {
    "tags": []
   },
   "outputs": [],
   "source": [
    "mPath = \"synthpop_datasets/models/synth_model_pyspark_10k\"\n",
    "from pyspark.ml.classification import LogisticRegressionModel\n",
    "synth_model_10k = LogisticRegressionModel.load(mPath)"
   ]
  },
  {
   "cell_type": "code",
   "execution_count": 97,
   "metadata": {
    "tags": []
   },
   "outputs": [],
   "source": [
    "pred_adult_10k = synth_model_10k.transform(test_adult_10k)"
   ]
  },
  {
   "cell_type": "code",
   "execution_count": 98,
   "metadata": {
    "tags": []
   },
   "outputs": [
    {
     "ename": "Py4JJavaError",
     "evalue": "An error occurred while calling o8682.count.\n: org.apache.spark.SparkException: Job aborted due to stage failure: Task 0 in stage 462.0 failed 1 times, most recent failure: Lost task 0.0 in stage 462.0 (TID 1593) (48135be0fed5 executor driver): org.apache.spark.SparkException: Failed to execute user defined function (ProbabilisticClassificationModel$$Lambda$4315/0x0000000801ceb3e0: (struct<type:tinyint,size:int,indices:array<int>,values:array<double>>) => struct<type:tinyint,size:int,indices:array<int>,values:array<double>>)\n\tat org.apache.spark.sql.errors.QueryExecutionErrors$.failedExecuteUserDefinedFunctionError(QueryExecutionErrors.scala:190)\n\tat org.apache.spark.sql.errors.QueryExecutionErrors.failedExecuteUserDefinedFunctionError(QueryExecutionErrors.scala)\n\tat org.apache.spark.sql.catalyst.expressions.GeneratedClass$GeneratedIteratorForCodegenStage1.hashAgg_doAggregateWithoutKey_0$(Unknown Source)\n\tat org.apache.spark.sql.catalyst.expressions.GeneratedClass$GeneratedIteratorForCodegenStage1.processNext(Unknown Source)\n\tat org.apache.spark.sql.execution.BufferedRowIterator.hasNext(BufferedRowIterator.java:43)\n\tat org.apache.spark.sql.execution.WholeStageCodegenExec$$anon$1.hasNext(WholeStageCodegenExec.scala:760)\n\tat scala.collection.Iterator$$anon$10.hasNext(Iterator.scala:460)\n\tat org.apache.spark.shuffle.sort.BypassMergeSortShuffleWriter.write(BypassMergeSortShuffleWriter.java:140)\n\tat org.apache.spark.shuffle.ShuffleWriteProcessor.write(ShuffleWriteProcessor.scala:59)\n\tat org.apache.spark.scheduler.ShuffleMapTask.runTask(ShuffleMapTask.scala:99)\n\tat org.apache.spark.scheduler.ShuffleMapTask.runTask(ShuffleMapTask.scala:52)\n\tat org.apache.spark.scheduler.Task.run(Task.scala:136)\n\tat org.apache.spark.executor.Executor$TaskRunner.$anonfun$run$3(Executor.scala:548)\n\tat org.apache.spark.util.Utils$.tryWithSafeFinally(Utils.scala:1504)\n\tat org.apache.spark.executor.Executor$TaskRunner.run(Executor.scala:551)\n\tat java.base/java.util.concurrent.ThreadPoolExecutor.runWorker(ThreadPoolExecutor.java:1136)\n\tat java.base/java.util.concurrent.ThreadPoolExecutor$Worker.run(ThreadPoolExecutor.java:635)\n\tat java.base/java.lang.Thread.run(Thread.java:833)\nCaused by: java.lang.IllegalArgumentException: requirement failed: BLAS.dot(x: Vector, y:Vector) was given Vectors with non-matching sizes: x.size = 96, y.size = 94\n\tat scala.Predef$.require(Predef.scala:281)\n\tat org.apache.spark.ml.linalg.BLAS$.dot(BLAS.scala:125)\n\tat org.apache.spark.ml.classification.LogisticRegressionModel.$anonfun$margin$1(LogisticRegression.scala:1156)\n\tat org.apache.spark.ml.classification.LogisticRegressionModel.$anonfun$margin$1$adapted(LogisticRegression.scala:1155)\n\tat org.apache.spark.ml.classification.LogisticRegressionModel.predictRaw(LogisticRegression.scala:1246)\n\tat org.apache.spark.ml.classification.LogisticRegressionModel.predictRaw(LogisticRegression.scala:1055)\n\tat org.apache.spark.ml.classification.ProbabilisticClassificationModel.$anonfun$transform$2(ProbabilisticClassifier.scala:121)\n\t... 16 more\n\nDriver stacktrace:\n\tat org.apache.spark.scheduler.DAGScheduler.failJobAndIndependentStages(DAGScheduler.scala:2672)\n\tat org.apache.spark.scheduler.DAGScheduler.$anonfun$abortStage$2(DAGScheduler.scala:2608)\n\tat org.apache.spark.scheduler.DAGScheduler.$anonfun$abortStage$2$adapted(DAGScheduler.scala:2607)\n\tat scala.collection.mutable.ResizableArray.foreach(ResizableArray.scala:62)\n\tat scala.collection.mutable.ResizableArray.foreach$(ResizableArray.scala:55)\n\tat scala.collection.mutable.ArrayBuffer.foreach(ArrayBuffer.scala:49)\n\tat org.apache.spark.scheduler.DAGScheduler.abortStage(DAGScheduler.scala:2607)\n\tat org.apache.spark.scheduler.DAGScheduler.$anonfun$handleTaskSetFailed$1(DAGScheduler.scala:1182)\n\tat org.apache.spark.scheduler.DAGScheduler.$anonfun$handleTaskSetFailed$1$adapted(DAGScheduler.scala:1182)\n\tat scala.Option.foreach(Option.scala:407)\n\tat org.apache.spark.scheduler.DAGScheduler.handleTaskSetFailed(DAGScheduler.scala:1182)\n\tat org.apache.spark.scheduler.DAGSchedulerEventProcessLoop.doOnReceive(DAGScheduler.scala:2860)\n\tat org.apache.spark.scheduler.DAGSchedulerEventProcessLoop.onReceive(DAGScheduler.scala:2802)\n\tat org.apache.spark.scheduler.DAGSchedulerEventProcessLoop.onReceive(DAGScheduler.scala:2791)\n\tat org.apache.spark.util.EventLoop$$anon$1.run(EventLoop.scala:49)\nCaused by: org.apache.spark.SparkException: Failed to execute user defined function (ProbabilisticClassificationModel$$Lambda$4315/0x0000000801ceb3e0: (struct<type:tinyint,size:int,indices:array<int>,values:array<double>>) => struct<type:tinyint,size:int,indices:array<int>,values:array<double>>)\n\tat org.apache.spark.sql.errors.QueryExecutionErrors$.failedExecuteUserDefinedFunctionError(QueryExecutionErrors.scala:190)\n\tat org.apache.spark.sql.errors.QueryExecutionErrors.failedExecuteUserDefinedFunctionError(QueryExecutionErrors.scala)\n\tat org.apache.spark.sql.catalyst.expressions.GeneratedClass$GeneratedIteratorForCodegenStage1.hashAgg_doAggregateWithoutKey_0$(Unknown Source)\n\tat org.apache.spark.sql.catalyst.expressions.GeneratedClass$GeneratedIteratorForCodegenStage1.processNext(Unknown Source)\n\tat org.apache.spark.sql.execution.BufferedRowIterator.hasNext(BufferedRowIterator.java:43)\n\tat org.apache.spark.sql.execution.WholeStageCodegenExec$$anon$1.hasNext(WholeStageCodegenExec.scala:760)\n\tat scala.collection.Iterator$$anon$10.hasNext(Iterator.scala:460)\n\tat org.apache.spark.shuffle.sort.BypassMergeSortShuffleWriter.write(BypassMergeSortShuffleWriter.java:140)\n\tat org.apache.spark.shuffle.ShuffleWriteProcessor.write(ShuffleWriteProcessor.scala:59)\n\tat org.apache.spark.scheduler.ShuffleMapTask.runTask(ShuffleMapTask.scala:99)\n\tat org.apache.spark.scheduler.ShuffleMapTask.runTask(ShuffleMapTask.scala:52)\n\tat org.apache.spark.scheduler.Task.run(Task.scala:136)\n\tat org.apache.spark.executor.Executor$TaskRunner.$anonfun$run$3(Executor.scala:548)\n\tat org.apache.spark.util.Utils$.tryWithSafeFinally(Utils.scala:1504)\n\tat org.apache.spark.executor.Executor$TaskRunner.run(Executor.scala:551)\n\tat java.base/java.util.concurrent.ThreadPoolExecutor.runWorker(ThreadPoolExecutor.java:1136)\n\tat java.base/java.util.concurrent.ThreadPoolExecutor$Worker.run(ThreadPoolExecutor.java:635)\n\tat java.base/java.lang.Thread.run(Thread.java:833)\nCaused by: java.lang.IllegalArgumentException: requirement failed: BLAS.dot(x: Vector, y:Vector) was given Vectors with non-matching sizes: x.size = 96, y.size = 94\n\tat scala.Predef$.require(Predef.scala:281)\n\tat org.apache.spark.ml.linalg.BLAS$.dot(BLAS.scala:125)\n\tat org.apache.spark.ml.classification.LogisticRegressionModel.$anonfun$margin$1(LogisticRegression.scala:1156)\n\tat org.apache.spark.ml.classification.LogisticRegressionModel.$anonfun$margin$1$adapted(LogisticRegression.scala:1155)\n\tat org.apache.spark.ml.classification.LogisticRegressionModel.predictRaw(LogisticRegression.scala:1246)\n\tat org.apache.spark.ml.classification.LogisticRegressionModel.predictRaw(LogisticRegression.scala:1055)\n\tat org.apache.spark.ml.classification.ProbabilisticClassificationModel.$anonfun$transform$2(ProbabilisticClassifier.scala:121)\n\t... 16 more\n",
     "output_type": "error",
     "traceback": [
      "\u001b[0;31m---------------------------------------------------------------------------\u001b[0m",
      "\u001b[0;31mPy4JJavaError\u001b[0m                             Traceback (most recent call last)",
      "Cell \u001b[0;32mIn[98], line 1\u001b[0m\n\u001b[0;32m----> 1\u001b[0m accuracy \u001b[38;5;241m=\u001b[39m \u001b[43mpred_adult_10k\u001b[49m\u001b[38;5;241;43m.\u001b[39;49m\u001b[43mfilter\u001b[49m\u001b[43m(\u001b[49m\u001b[43mpred_adult_10k\u001b[49m\u001b[38;5;241;43m.\u001b[39;49m\u001b[43mlabel\u001b[49m\u001b[43m \u001b[49m\u001b[38;5;241;43m==\u001b[39;49m\u001b[43m \u001b[49m\u001b[43mpred_adult_10k\u001b[49m\u001b[38;5;241;43m.\u001b[39;49m\u001b[43mprediction\u001b[49m\u001b[43m)\u001b[49m\u001b[38;5;241;43m.\u001b[39;49m\u001b[43mcount\u001b[49m\u001b[43m(\u001b[49m\u001b[43m)\u001b[49m \u001b[38;5;241m/\u001b[39m \u001b[38;5;28mfloat\u001b[39m(pred_adult_10k\u001b[38;5;241m.\u001b[39mcount())\n\u001b[1;32m      2\u001b[0m \u001b[38;5;28mprint\u001b[39m(\u001b[38;5;124m\"\u001b[39m\u001b[38;5;124mAccuracy : \u001b[39m\u001b[38;5;124m\"\u001b[39m,accuracy)\n",
      "File \u001b[0;32m/usr/local/spark/python/pyspark/sql/dataframe.py:804\u001b[0m, in \u001b[0;36mDataFrame.count\u001b[0;34m(self)\u001b[0m\n\u001b[1;32m    794\u001b[0m \u001b[38;5;28;01mdef\u001b[39;00m \u001b[38;5;21mcount\u001b[39m(\u001b[38;5;28mself\u001b[39m) \u001b[38;5;241m-\u001b[39m\u001b[38;5;241m>\u001b[39m \u001b[38;5;28mint\u001b[39m:\n\u001b[1;32m    795\u001b[0m \u001b[38;5;250m    \u001b[39m\u001b[38;5;124;03m\"\"\"Returns the number of rows in this :class:`DataFrame`.\u001b[39;00m\n\u001b[1;32m    796\u001b[0m \n\u001b[1;32m    797\u001b[0m \u001b[38;5;124;03m    .. versionadded:: 1.3.0\u001b[39;00m\n\u001b[0;32m   (...)\u001b[0m\n\u001b[1;32m    802\u001b[0m \u001b[38;5;124;03m    2\u001b[39;00m\n\u001b[1;32m    803\u001b[0m \u001b[38;5;124;03m    \"\"\"\u001b[39;00m\n\u001b[0;32m--> 804\u001b[0m     \u001b[38;5;28;01mreturn\u001b[39;00m \u001b[38;5;28mint\u001b[39m(\u001b[38;5;28;43mself\u001b[39;49m\u001b[38;5;241;43m.\u001b[39;49m\u001b[43m_jdf\u001b[49m\u001b[38;5;241;43m.\u001b[39;49m\u001b[43mcount\u001b[49m\u001b[43m(\u001b[49m\u001b[43m)\u001b[49m)\n",
      "File \u001b[0;32m/usr/local/spark/python/lib/py4j-0.10.9.5-src.zip/py4j/java_gateway.py:1321\u001b[0m, in \u001b[0;36mJavaMember.__call__\u001b[0;34m(self, *args)\u001b[0m\n\u001b[1;32m   1315\u001b[0m command \u001b[38;5;241m=\u001b[39m proto\u001b[38;5;241m.\u001b[39mCALL_COMMAND_NAME \u001b[38;5;241m+\u001b[39m\\\n\u001b[1;32m   1316\u001b[0m     \u001b[38;5;28mself\u001b[39m\u001b[38;5;241m.\u001b[39mcommand_header \u001b[38;5;241m+\u001b[39m\\\n\u001b[1;32m   1317\u001b[0m     args_command \u001b[38;5;241m+\u001b[39m\\\n\u001b[1;32m   1318\u001b[0m     proto\u001b[38;5;241m.\u001b[39mEND_COMMAND_PART\n\u001b[1;32m   1320\u001b[0m answer \u001b[38;5;241m=\u001b[39m \u001b[38;5;28mself\u001b[39m\u001b[38;5;241m.\u001b[39mgateway_client\u001b[38;5;241m.\u001b[39msend_command(command)\n\u001b[0;32m-> 1321\u001b[0m return_value \u001b[38;5;241m=\u001b[39m \u001b[43mget_return_value\u001b[49m\u001b[43m(\u001b[49m\n\u001b[1;32m   1322\u001b[0m \u001b[43m    \u001b[49m\u001b[43manswer\u001b[49m\u001b[43m,\u001b[49m\u001b[43m \u001b[49m\u001b[38;5;28;43mself\u001b[39;49m\u001b[38;5;241;43m.\u001b[39;49m\u001b[43mgateway_client\u001b[49m\u001b[43m,\u001b[49m\u001b[43m \u001b[49m\u001b[38;5;28;43mself\u001b[39;49m\u001b[38;5;241;43m.\u001b[39;49m\u001b[43mtarget_id\u001b[49m\u001b[43m,\u001b[49m\u001b[43m \u001b[49m\u001b[38;5;28;43mself\u001b[39;49m\u001b[38;5;241;43m.\u001b[39;49m\u001b[43mname\u001b[49m\u001b[43m)\u001b[49m\n\u001b[1;32m   1324\u001b[0m \u001b[38;5;28;01mfor\u001b[39;00m temp_arg \u001b[38;5;129;01min\u001b[39;00m temp_args:\n\u001b[1;32m   1325\u001b[0m     temp_arg\u001b[38;5;241m.\u001b[39m_detach()\n",
      "File \u001b[0;32m/usr/local/spark/python/pyspark/sql/utils.py:190\u001b[0m, in \u001b[0;36mcapture_sql_exception.<locals>.deco\u001b[0;34m(*a, **kw)\u001b[0m\n\u001b[1;32m    188\u001b[0m \u001b[38;5;28;01mdef\u001b[39;00m \u001b[38;5;21mdeco\u001b[39m(\u001b[38;5;241m*\u001b[39ma: Any, \u001b[38;5;241m*\u001b[39m\u001b[38;5;241m*\u001b[39mkw: Any) \u001b[38;5;241m-\u001b[39m\u001b[38;5;241m>\u001b[39m Any:\n\u001b[1;32m    189\u001b[0m     \u001b[38;5;28;01mtry\u001b[39;00m:\n\u001b[0;32m--> 190\u001b[0m         \u001b[38;5;28;01mreturn\u001b[39;00m \u001b[43mf\u001b[49m\u001b[43m(\u001b[49m\u001b[38;5;241;43m*\u001b[39;49m\u001b[43ma\u001b[49m\u001b[43m,\u001b[49m\u001b[43m \u001b[49m\u001b[38;5;241;43m*\u001b[39;49m\u001b[38;5;241;43m*\u001b[39;49m\u001b[43mkw\u001b[49m\u001b[43m)\u001b[49m\n\u001b[1;32m    191\u001b[0m     \u001b[38;5;28;01mexcept\u001b[39;00m Py4JJavaError \u001b[38;5;28;01mas\u001b[39;00m e:\n\u001b[1;32m    192\u001b[0m         converted \u001b[38;5;241m=\u001b[39m convert_exception(e\u001b[38;5;241m.\u001b[39mjava_exception)\n",
      "File \u001b[0;32m/usr/local/spark/python/lib/py4j-0.10.9.5-src.zip/py4j/protocol.py:326\u001b[0m, in \u001b[0;36mget_return_value\u001b[0;34m(answer, gateway_client, target_id, name)\u001b[0m\n\u001b[1;32m    324\u001b[0m value \u001b[38;5;241m=\u001b[39m OUTPUT_CONVERTER[\u001b[38;5;28mtype\u001b[39m](answer[\u001b[38;5;241m2\u001b[39m:], gateway_client)\n\u001b[1;32m    325\u001b[0m \u001b[38;5;28;01mif\u001b[39;00m answer[\u001b[38;5;241m1\u001b[39m] \u001b[38;5;241m==\u001b[39m REFERENCE_TYPE:\n\u001b[0;32m--> 326\u001b[0m     \u001b[38;5;28;01mraise\u001b[39;00m Py4JJavaError(\n\u001b[1;32m    327\u001b[0m         \u001b[38;5;124m\"\u001b[39m\u001b[38;5;124mAn error occurred while calling \u001b[39m\u001b[38;5;132;01m{0}\u001b[39;00m\u001b[38;5;132;01m{1}\u001b[39;00m\u001b[38;5;132;01m{2}\u001b[39;00m\u001b[38;5;124m.\u001b[39m\u001b[38;5;130;01m\\n\u001b[39;00m\u001b[38;5;124m\"\u001b[39m\u001b[38;5;241m.\u001b[39m\n\u001b[1;32m    328\u001b[0m         \u001b[38;5;28mformat\u001b[39m(target_id, \u001b[38;5;124m\"\u001b[39m\u001b[38;5;124m.\u001b[39m\u001b[38;5;124m\"\u001b[39m, name), value)\n\u001b[1;32m    329\u001b[0m \u001b[38;5;28;01melse\u001b[39;00m:\n\u001b[1;32m    330\u001b[0m     \u001b[38;5;28;01mraise\u001b[39;00m Py4JError(\n\u001b[1;32m    331\u001b[0m         \u001b[38;5;124m\"\u001b[39m\u001b[38;5;124mAn error occurred while calling \u001b[39m\u001b[38;5;132;01m{0}\u001b[39;00m\u001b[38;5;132;01m{1}\u001b[39;00m\u001b[38;5;132;01m{2}\u001b[39;00m\u001b[38;5;124m. Trace:\u001b[39m\u001b[38;5;130;01m\\n\u001b[39;00m\u001b[38;5;132;01m{3}\u001b[39;00m\u001b[38;5;130;01m\\n\u001b[39;00m\u001b[38;5;124m\"\u001b[39m\u001b[38;5;241m.\u001b[39m\n\u001b[1;32m    332\u001b[0m         \u001b[38;5;28mformat\u001b[39m(target_id, \u001b[38;5;124m\"\u001b[39m\u001b[38;5;124m.\u001b[39m\u001b[38;5;124m\"\u001b[39m, name, value))\n",
      "\u001b[0;31mPy4JJavaError\u001b[0m: An error occurred while calling o8682.count.\n: org.apache.spark.SparkException: Job aborted due to stage failure: Task 0 in stage 462.0 failed 1 times, most recent failure: Lost task 0.0 in stage 462.0 (TID 1593) (48135be0fed5 executor driver): org.apache.spark.SparkException: Failed to execute user defined function (ProbabilisticClassificationModel$$Lambda$4315/0x0000000801ceb3e0: (struct<type:tinyint,size:int,indices:array<int>,values:array<double>>) => struct<type:tinyint,size:int,indices:array<int>,values:array<double>>)\n\tat org.apache.spark.sql.errors.QueryExecutionErrors$.failedExecuteUserDefinedFunctionError(QueryExecutionErrors.scala:190)\n\tat org.apache.spark.sql.errors.QueryExecutionErrors.failedExecuteUserDefinedFunctionError(QueryExecutionErrors.scala)\n\tat org.apache.spark.sql.catalyst.expressions.GeneratedClass$GeneratedIteratorForCodegenStage1.hashAgg_doAggregateWithoutKey_0$(Unknown Source)\n\tat org.apache.spark.sql.catalyst.expressions.GeneratedClass$GeneratedIteratorForCodegenStage1.processNext(Unknown Source)\n\tat org.apache.spark.sql.execution.BufferedRowIterator.hasNext(BufferedRowIterator.java:43)\n\tat org.apache.spark.sql.execution.WholeStageCodegenExec$$anon$1.hasNext(WholeStageCodegenExec.scala:760)\n\tat scala.collection.Iterator$$anon$10.hasNext(Iterator.scala:460)\n\tat org.apache.spark.shuffle.sort.BypassMergeSortShuffleWriter.write(BypassMergeSortShuffleWriter.java:140)\n\tat org.apache.spark.shuffle.ShuffleWriteProcessor.write(ShuffleWriteProcessor.scala:59)\n\tat org.apache.spark.scheduler.ShuffleMapTask.runTask(ShuffleMapTask.scala:99)\n\tat org.apache.spark.scheduler.ShuffleMapTask.runTask(ShuffleMapTask.scala:52)\n\tat org.apache.spark.scheduler.Task.run(Task.scala:136)\n\tat org.apache.spark.executor.Executor$TaskRunner.$anonfun$run$3(Executor.scala:548)\n\tat org.apache.spark.util.Utils$.tryWithSafeFinally(Utils.scala:1504)\n\tat org.apache.spark.executor.Executor$TaskRunner.run(Executor.scala:551)\n\tat java.base/java.util.concurrent.ThreadPoolExecutor.runWorker(ThreadPoolExecutor.java:1136)\n\tat java.base/java.util.concurrent.ThreadPoolExecutor$Worker.run(ThreadPoolExecutor.java:635)\n\tat java.base/java.lang.Thread.run(Thread.java:833)\nCaused by: java.lang.IllegalArgumentException: requirement failed: BLAS.dot(x: Vector, y:Vector) was given Vectors with non-matching sizes: x.size = 96, y.size = 94\n\tat scala.Predef$.require(Predef.scala:281)\n\tat org.apache.spark.ml.linalg.BLAS$.dot(BLAS.scala:125)\n\tat org.apache.spark.ml.classification.LogisticRegressionModel.$anonfun$margin$1(LogisticRegression.scala:1156)\n\tat org.apache.spark.ml.classification.LogisticRegressionModel.$anonfun$margin$1$adapted(LogisticRegression.scala:1155)\n\tat org.apache.spark.ml.classification.LogisticRegressionModel.predictRaw(LogisticRegression.scala:1246)\n\tat org.apache.spark.ml.classification.LogisticRegressionModel.predictRaw(LogisticRegression.scala:1055)\n\tat org.apache.spark.ml.classification.ProbabilisticClassificationModel.$anonfun$transform$2(ProbabilisticClassifier.scala:121)\n\t... 16 more\n\nDriver stacktrace:\n\tat org.apache.spark.scheduler.DAGScheduler.failJobAndIndependentStages(DAGScheduler.scala:2672)\n\tat org.apache.spark.scheduler.DAGScheduler.$anonfun$abortStage$2(DAGScheduler.scala:2608)\n\tat org.apache.spark.scheduler.DAGScheduler.$anonfun$abortStage$2$adapted(DAGScheduler.scala:2607)\n\tat scala.collection.mutable.ResizableArray.foreach(ResizableArray.scala:62)\n\tat scala.collection.mutable.ResizableArray.foreach$(ResizableArray.scala:55)\n\tat scala.collection.mutable.ArrayBuffer.foreach(ArrayBuffer.scala:49)\n\tat org.apache.spark.scheduler.DAGScheduler.abortStage(DAGScheduler.scala:2607)\n\tat org.apache.spark.scheduler.DAGScheduler.$anonfun$handleTaskSetFailed$1(DAGScheduler.scala:1182)\n\tat org.apache.spark.scheduler.DAGScheduler.$anonfun$handleTaskSetFailed$1$adapted(DAGScheduler.scala:1182)\n\tat scala.Option.foreach(Option.scala:407)\n\tat org.apache.spark.scheduler.DAGScheduler.handleTaskSetFailed(DAGScheduler.scala:1182)\n\tat org.apache.spark.scheduler.DAGSchedulerEventProcessLoop.doOnReceive(DAGScheduler.scala:2860)\n\tat org.apache.spark.scheduler.DAGSchedulerEventProcessLoop.onReceive(DAGScheduler.scala:2802)\n\tat org.apache.spark.scheduler.DAGSchedulerEventProcessLoop.onReceive(DAGScheduler.scala:2791)\n\tat org.apache.spark.util.EventLoop$$anon$1.run(EventLoop.scala:49)\nCaused by: org.apache.spark.SparkException: Failed to execute user defined function (ProbabilisticClassificationModel$$Lambda$4315/0x0000000801ceb3e0: (struct<type:tinyint,size:int,indices:array<int>,values:array<double>>) => struct<type:tinyint,size:int,indices:array<int>,values:array<double>>)\n\tat org.apache.spark.sql.errors.QueryExecutionErrors$.failedExecuteUserDefinedFunctionError(QueryExecutionErrors.scala:190)\n\tat org.apache.spark.sql.errors.QueryExecutionErrors.failedExecuteUserDefinedFunctionError(QueryExecutionErrors.scala)\n\tat org.apache.spark.sql.catalyst.expressions.GeneratedClass$GeneratedIteratorForCodegenStage1.hashAgg_doAggregateWithoutKey_0$(Unknown Source)\n\tat org.apache.spark.sql.catalyst.expressions.GeneratedClass$GeneratedIteratorForCodegenStage1.processNext(Unknown Source)\n\tat org.apache.spark.sql.execution.BufferedRowIterator.hasNext(BufferedRowIterator.java:43)\n\tat org.apache.spark.sql.execution.WholeStageCodegenExec$$anon$1.hasNext(WholeStageCodegenExec.scala:760)\n\tat scala.collection.Iterator$$anon$10.hasNext(Iterator.scala:460)\n\tat org.apache.spark.shuffle.sort.BypassMergeSortShuffleWriter.write(BypassMergeSortShuffleWriter.java:140)\n\tat org.apache.spark.shuffle.ShuffleWriteProcessor.write(ShuffleWriteProcessor.scala:59)\n\tat org.apache.spark.scheduler.ShuffleMapTask.runTask(ShuffleMapTask.scala:99)\n\tat org.apache.spark.scheduler.ShuffleMapTask.runTask(ShuffleMapTask.scala:52)\n\tat org.apache.spark.scheduler.Task.run(Task.scala:136)\n\tat org.apache.spark.executor.Executor$TaskRunner.$anonfun$run$3(Executor.scala:548)\n\tat org.apache.spark.util.Utils$.tryWithSafeFinally(Utils.scala:1504)\n\tat org.apache.spark.executor.Executor$TaskRunner.run(Executor.scala:551)\n\tat java.base/java.util.concurrent.ThreadPoolExecutor.runWorker(ThreadPoolExecutor.java:1136)\n\tat java.base/java.util.concurrent.ThreadPoolExecutor$Worker.run(ThreadPoolExecutor.java:635)\n\tat java.base/java.lang.Thread.run(Thread.java:833)\nCaused by: java.lang.IllegalArgumentException: requirement failed: BLAS.dot(x: Vector, y:Vector) was given Vectors with non-matching sizes: x.size = 96, y.size = 94\n\tat scala.Predef$.require(Predef.scala:281)\n\tat org.apache.spark.ml.linalg.BLAS$.dot(BLAS.scala:125)\n\tat org.apache.spark.ml.classification.LogisticRegressionModel.$anonfun$margin$1(LogisticRegression.scala:1156)\n\tat org.apache.spark.ml.classification.LogisticRegressionModel.$anonfun$margin$1$adapted(LogisticRegression.scala:1155)\n\tat org.apache.spark.ml.classification.LogisticRegressionModel.predictRaw(LogisticRegression.scala:1246)\n\tat org.apache.spark.ml.classification.LogisticRegressionModel.predictRaw(LogisticRegression.scala:1055)\n\tat org.apache.spark.ml.classification.ProbabilisticClassificationModel.$anonfun$transform$2(ProbabilisticClassifier.scala:121)\n\t... 16 more\n"
     ]
    }
   ],
   "source": [
    "accuracy = pred_adult_10k.filter(pred_adult_10k.label == pred_adult_10k.prediction).count() / float(pred_adult_10k.count())\n",
    "print(\"Accuracy : \",accuracy)"
   ]
  },
  {
   "cell_type": "code",
   "execution_count": 99,
   "metadata": {
    "tags": []
   },
   "outputs": [
    {
     "ename": "Py4JJavaError",
     "evalue": "An error occurred while calling o8696.showString.\n: org.apache.spark.SparkException: Job aborted due to stage failure: Task 1 in stage 463.0 failed 1 times, most recent failure: Lost task 1.0 in stage 463.0 (TID 1596) (48135be0fed5 executor driver): org.apache.spark.SparkException: Failed to execute user defined function (ProbabilisticClassificationModel$$Lambda$4315/0x0000000801ceb3e0: (struct<type:tinyint,size:int,indices:array<int>,values:array<double>>) => struct<type:tinyint,size:int,indices:array<int>,values:array<double>>)\n\tat org.apache.spark.sql.errors.QueryExecutionErrors$.failedExecuteUserDefinedFunctionError(QueryExecutionErrors.scala:190)\n\tat org.apache.spark.sql.errors.QueryExecutionErrors.failedExecuteUserDefinedFunctionError(QueryExecutionErrors.scala)\n\tat org.apache.spark.sql.catalyst.expressions.GeneratedClass$GeneratedIteratorForCodegenStage1.hashAgg_doAggregateWithKeys_0$(Unknown Source)\n\tat org.apache.spark.sql.catalyst.expressions.GeneratedClass$GeneratedIteratorForCodegenStage1.processNext(Unknown Source)\n\tat org.apache.spark.sql.execution.BufferedRowIterator.hasNext(BufferedRowIterator.java:43)\n\tat org.apache.spark.sql.execution.WholeStageCodegenExec$$anon$1.hasNext(WholeStageCodegenExec.scala:760)\n\tat scala.collection.Iterator$$anon$10.hasNext(Iterator.scala:460)\n\tat org.apache.spark.shuffle.sort.BypassMergeSortShuffleWriter.write(BypassMergeSortShuffleWriter.java:140)\n\tat org.apache.spark.shuffle.ShuffleWriteProcessor.write(ShuffleWriteProcessor.scala:59)\n\tat org.apache.spark.scheduler.ShuffleMapTask.runTask(ShuffleMapTask.scala:99)\n\tat org.apache.spark.scheduler.ShuffleMapTask.runTask(ShuffleMapTask.scala:52)\n\tat org.apache.spark.scheduler.Task.run(Task.scala:136)\n\tat org.apache.spark.executor.Executor$TaskRunner.$anonfun$run$3(Executor.scala:548)\n\tat org.apache.spark.util.Utils$.tryWithSafeFinally(Utils.scala:1504)\n\tat org.apache.spark.executor.Executor$TaskRunner.run(Executor.scala:551)\n\tat java.base/java.util.concurrent.ThreadPoolExecutor.runWorker(ThreadPoolExecutor.java:1136)\n\tat java.base/java.util.concurrent.ThreadPoolExecutor$Worker.run(ThreadPoolExecutor.java:635)\n\tat java.base/java.lang.Thread.run(Thread.java:833)\nCaused by: java.lang.IllegalArgumentException: requirement failed: BLAS.dot(x: Vector, y:Vector) was given Vectors with non-matching sizes: x.size = 96, y.size = 94\n\tat scala.Predef$.require(Predef.scala:281)\n\tat org.apache.spark.ml.linalg.BLAS$.dot(BLAS.scala:125)\n\tat org.apache.spark.ml.classification.LogisticRegressionModel.$anonfun$margin$1(LogisticRegression.scala:1156)\n\tat org.apache.spark.ml.classification.LogisticRegressionModel.$anonfun$margin$1$adapted(LogisticRegression.scala:1155)\n\tat org.apache.spark.ml.classification.LogisticRegressionModel.predictRaw(LogisticRegression.scala:1246)\n\tat org.apache.spark.ml.classification.LogisticRegressionModel.predictRaw(LogisticRegression.scala:1055)\n\tat org.apache.spark.ml.classification.ProbabilisticClassificationModel.$anonfun$transform$2(ProbabilisticClassifier.scala:121)\n\t... 16 more\n\nDriver stacktrace:\n\tat org.apache.spark.scheduler.DAGScheduler.failJobAndIndependentStages(DAGScheduler.scala:2672)\n\tat org.apache.spark.scheduler.DAGScheduler.$anonfun$abortStage$2(DAGScheduler.scala:2608)\n\tat org.apache.spark.scheduler.DAGScheduler.$anonfun$abortStage$2$adapted(DAGScheduler.scala:2607)\n\tat scala.collection.mutable.ResizableArray.foreach(ResizableArray.scala:62)\n\tat scala.collection.mutable.ResizableArray.foreach$(ResizableArray.scala:55)\n\tat scala.collection.mutable.ArrayBuffer.foreach(ArrayBuffer.scala:49)\n\tat org.apache.spark.scheduler.DAGScheduler.abortStage(DAGScheduler.scala:2607)\n\tat org.apache.spark.scheduler.DAGScheduler.$anonfun$handleTaskSetFailed$1(DAGScheduler.scala:1182)\n\tat org.apache.spark.scheduler.DAGScheduler.$anonfun$handleTaskSetFailed$1$adapted(DAGScheduler.scala:1182)\n\tat scala.Option.foreach(Option.scala:407)\n\tat org.apache.spark.scheduler.DAGScheduler.handleTaskSetFailed(DAGScheduler.scala:1182)\n\tat org.apache.spark.scheduler.DAGSchedulerEventProcessLoop.doOnReceive(DAGScheduler.scala:2860)\n\tat org.apache.spark.scheduler.DAGSchedulerEventProcessLoop.onReceive(DAGScheduler.scala:2802)\n\tat org.apache.spark.scheduler.DAGSchedulerEventProcessLoop.onReceive(DAGScheduler.scala:2791)\n\tat org.apache.spark.util.EventLoop$$anon$1.run(EventLoop.scala:49)\nCaused by: org.apache.spark.SparkException: Failed to execute user defined function (ProbabilisticClassificationModel$$Lambda$4315/0x0000000801ceb3e0: (struct<type:tinyint,size:int,indices:array<int>,values:array<double>>) => struct<type:tinyint,size:int,indices:array<int>,values:array<double>>)\n\tat org.apache.spark.sql.errors.QueryExecutionErrors$.failedExecuteUserDefinedFunctionError(QueryExecutionErrors.scala:190)\n\tat org.apache.spark.sql.errors.QueryExecutionErrors.failedExecuteUserDefinedFunctionError(QueryExecutionErrors.scala)\n\tat org.apache.spark.sql.catalyst.expressions.GeneratedClass$GeneratedIteratorForCodegenStage1.hashAgg_doAggregateWithKeys_0$(Unknown Source)\n\tat org.apache.spark.sql.catalyst.expressions.GeneratedClass$GeneratedIteratorForCodegenStage1.processNext(Unknown Source)\n\tat org.apache.spark.sql.execution.BufferedRowIterator.hasNext(BufferedRowIterator.java:43)\n\tat org.apache.spark.sql.execution.WholeStageCodegenExec$$anon$1.hasNext(WholeStageCodegenExec.scala:760)\n\tat scala.collection.Iterator$$anon$10.hasNext(Iterator.scala:460)\n\tat org.apache.spark.shuffle.sort.BypassMergeSortShuffleWriter.write(BypassMergeSortShuffleWriter.java:140)\n\tat org.apache.spark.shuffle.ShuffleWriteProcessor.write(ShuffleWriteProcessor.scala:59)\n\tat org.apache.spark.scheduler.ShuffleMapTask.runTask(ShuffleMapTask.scala:99)\n\tat org.apache.spark.scheduler.ShuffleMapTask.runTask(ShuffleMapTask.scala:52)\n\tat org.apache.spark.scheduler.Task.run(Task.scala:136)\n\tat org.apache.spark.executor.Executor$TaskRunner.$anonfun$run$3(Executor.scala:548)\n\tat org.apache.spark.util.Utils$.tryWithSafeFinally(Utils.scala:1504)\n\tat org.apache.spark.executor.Executor$TaskRunner.run(Executor.scala:551)\n\tat java.base/java.util.concurrent.ThreadPoolExecutor.runWorker(ThreadPoolExecutor.java:1136)\n\tat java.base/java.util.concurrent.ThreadPoolExecutor$Worker.run(ThreadPoolExecutor.java:635)\n\tat java.base/java.lang.Thread.run(Thread.java:833)\nCaused by: java.lang.IllegalArgumentException: requirement failed: BLAS.dot(x: Vector, y:Vector) was given Vectors with non-matching sizes: x.size = 96, y.size = 94\n\tat scala.Predef$.require(Predef.scala:281)\n\tat org.apache.spark.ml.linalg.BLAS$.dot(BLAS.scala:125)\n\tat org.apache.spark.ml.classification.LogisticRegressionModel.$anonfun$margin$1(LogisticRegression.scala:1156)\n\tat org.apache.spark.ml.classification.LogisticRegressionModel.$anonfun$margin$1$adapted(LogisticRegression.scala:1155)\n\tat org.apache.spark.ml.classification.LogisticRegressionModel.predictRaw(LogisticRegression.scala:1246)\n\tat org.apache.spark.ml.classification.LogisticRegressionModel.predictRaw(LogisticRegression.scala:1055)\n\tat org.apache.spark.ml.classification.ProbabilisticClassificationModel.$anonfun$transform$2(ProbabilisticClassifier.scala:121)\n\t... 16 more\n",
     "output_type": "error",
     "traceback": [
      "\u001b[0;31m---------------------------------------------------------------------------\u001b[0m",
      "\u001b[0;31mPy4JJavaError\u001b[0m                             Traceback (most recent call last)",
      "Cell \u001b[0;32mIn[99], line 1\u001b[0m\n\u001b[0;32m----> 1\u001b[0m \u001b[43mpred_adult_10k\u001b[49m\u001b[38;5;241;43m.\u001b[39;49m\u001b[43mgroupBy\u001b[49m\u001b[43m(\u001b[49m\u001b[38;5;124;43m'\u001b[39;49m\u001b[38;5;124;43mprediction\u001b[39;49m\u001b[38;5;124;43m'\u001b[39;49m\u001b[43m,\u001b[49m\u001b[38;5;124;43m'\u001b[39;49m\u001b[38;5;124;43mlabel\u001b[39;49m\u001b[38;5;124;43m'\u001b[39;49m\u001b[43m)\u001b[49m\u001b[38;5;241;43m.\u001b[39;49m\u001b[43magg\u001b[49m\u001b[43m(\u001b[49m\u001b[43mF\u001b[49m\u001b[38;5;241;43m.\u001b[39;49m\u001b[43mcount\u001b[49m\u001b[43m(\u001b[49m\u001b[38;5;124;43m'\u001b[39;49m\u001b[38;5;124;43m*\u001b[39;49m\u001b[38;5;124;43m'\u001b[39;49m\u001b[43m)\u001b[49m\u001b[38;5;241;43m.\u001b[39;49m\u001b[43malias\u001b[49m\u001b[43m(\u001b[49m\u001b[38;5;124;43m'\u001b[39;49m\u001b[38;5;124;43mcnt\u001b[39;49m\u001b[38;5;124;43m'\u001b[39;49m\u001b[43m)\u001b[49m\u001b[43m)\u001b[49m\u001b[38;5;241;43m.\u001b[39;49m\u001b[43mshow\u001b[49m\u001b[43m(\u001b[49m\u001b[38;5;241;43m10\u001b[39;49m\u001b[43m,\u001b[49m\u001b[38;5;28;43;01mFalse\u001b[39;49;00m\u001b[43m)\u001b[49m\n",
      "File \u001b[0;32m/usr/local/spark/python/pyspark/sql/dataframe.py:615\u001b[0m, in \u001b[0;36mDataFrame.show\u001b[0;34m(self, n, truncate, vertical)\u001b[0m\n\u001b[1;32m    610\u001b[0m \u001b[38;5;28;01mexcept\u001b[39;00m \u001b[38;5;167;01mValueError\u001b[39;00m:\n\u001b[1;32m    611\u001b[0m     \u001b[38;5;28;01mraise\u001b[39;00m \u001b[38;5;167;01mTypeError\u001b[39;00m(\n\u001b[1;32m    612\u001b[0m         \u001b[38;5;124m\"\u001b[39m\u001b[38;5;124mParameter \u001b[39m\u001b[38;5;124m'\u001b[39m\u001b[38;5;124mtruncate=\u001b[39m\u001b[38;5;132;01m{}\u001b[39;00m\u001b[38;5;124m'\u001b[39m\u001b[38;5;124m should be either bool or int.\u001b[39m\u001b[38;5;124m\"\u001b[39m\u001b[38;5;241m.\u001b[39mformat(truncate)\n\u001b[1;32m    613\u001b[0m     )\n\u001b[0;32m--> 615\u001b[0m \u001b[38;5;28mprint\u001b[39m(\u001b[38;5;28;43mself\u001b[39;49m\u001b[38;5;241;43m.\u001b[39;49m\u001b[43m_jdf\u001b[49m\u001b[38;5;241;43m.\u001b[39;49m\u001b[43mshowString\u001b[49m\u001b[43m(\u001b[49m\u001b[43mn\u001b[49m\u001b[43m,\u001b[49m\u001b[43m \u001b[49m\u001b[43mint_truncate\u001b[49m\u001b[43m,\u001b[49m\u001b[43m \u001b[49m\u001b[43mvertical\u001b[49m\u001b[43m)\u001b[49m)\n",
      "File \u001b[0;32m/usr/local/spark/python/lib/py4j-0.10.9.5-src.zip/py4j/java_gateway.py:1321\u001b[0m, in \u001b[0;36mJavaMember.__call__\u001b[0;34m(self, *args)\u001b[0m\n\u001b[1;32m   1315\u001b[0m command \u001b[38;5;241m=\u001b[39m proto\u001b[38;5;241m.\u001b[39mCALL_COMMAND_NAME \u001b[38;5;241m+\u001b[39m\\\n\u001b[1;32m   1316\u001b[0m     \u001b[38;5;28mself\u001b[39m\u001b[38;5;241m.\u001b[39mcommand_header \u001b[38;5;241m+\u001b[39m\\\n\u001b[1;32m   1317\u001b[0m     args_command \u001b[38;5;241m+\u001b[39m\\\n\u001b[1;32m   1318\u001b[0m     proto\u001b[38;5;241m.\u001b[39mEND_COMMAND_PART\n\u001b[1;32m   1320\u001b[0m answer \u001b[38;5;241m=\u001b[39m \u001b[38;5;28mself\u001b[39m\u001b[38;5;241m.\u001b[39mgateway_client\u001b[38;5;241m.\u001b[39msend_command(command)\n\u001b[0;32m-> 1321\u001b[0m return_value \u001b[38;5;241m=\u001b[39m \u001b[43mget_return_value\u001b[49m\u001b[43m(\u001b[49m\n\u001b[1;32m   1322\u001b[0m \u001b[43m    \u001b[49m\u001b[43manswer\u001b[49m\u001b[43m,\u001b[49m\u001b[43m \u001b[49m\u001b[38;5;28;43mself\u001b[39;49m\u001b[38;5;241;43m.\u001b[39;49m\u001b[43mgateway_client\u001b[49m\u001b[43m,\u001b[49m\u001b[43m \u001b[49m\u001b[38;5;28;43mself\u001b[39;49m\u001b[38;5;241;43m.\u001b[39;49m\u001b[43mtarget_id\u001b[49m\u001b[43m,\u001b[49m\u001b[43m \u001b[49m\u001b[38;5;28;43mself\u001b[39;49m\u001b[38;5;241;43m.\u001b[39;49m\u001b[43mname\u001b[49m\u001b[43m)\u001b[49m\n\u001b[1;32m   1324\u001b[0m \u001b[38;5;28;01mfor\u001b[39;00m temp_arg \u001b[38;5;129;01min\u001b[39;00m temp_args:\n\u001b[1;32m   1325\u001b[0m     temp_arg\u001b[38;5;241m.\u001b[39m_detach()\n",
      "File \u001b[0;32m/usr/local/spark/python/pyspark/sql/utils.py:190\u001b[0m, in \u001b[0;36mcapture_sql_exception.<locals>.deco\u001b[0;34m(*a, **kw)\u001b[0m\n\u001b[1;32m    188\u001b[0m \u001b[38;5;28;01mdef\u001b[39;00m \u001b[38;5;21mdeco\u001b[39m(\u001b[38;5;241m*\u001b[39ma: Any, \u001b[38;5;241m*\u001b[39m\u001b[38;5;241m*\u001b[39mkw: Any) \u001b[38;5;241m-\u001b[39m\u001b[38;5;241m>\u001b[39m Any:\n\u001b[1;32m    189\u001b[0m     \u001b[38;5;28;01mtry\u001b[39;00m:\n\u001b[0;32m--> 190\u001b[0m         \u001b[38;5;28;01mreturn\u001b[39;00m \u001b[43mf\u001b[49m\u001b[43m(\u001b[49m\u001b[38;5;241;43m*\u001b[39;49m\u001b[43ma\u001b[49m\u001b[43m,\u001b[49m\u001b[43m \u001b[49m\u001b[38;5;241;43m*\u001b[39;49m\u001b[38;5;241;43m*\u001b[39;49m\u001b[43mkw\u001b[49m\u001b[43m)\u001b[49m\n\u001b[1;32m    191\u001b[0m     \u001b[38;5;28;01mexcept\u001b[39;00m Py4JJavaError \u001b[38;5;28;01mas\u001b[39;00m e:\n\u001b[1;32m    192\u001b[0m         converted \u001b[38;5;241m=\u001b[39m convert_exception(e\u001b[38;5;241m.\u001b[39mjava_exception)\n",
      "File \u001b[0;32m/usr/local/spark/python/lib/py4j-0.10.9.5-src.zip/py4j/protocol.py:326\u001b[0m, in \u001b[0;36mget_return_value\u001b[0;34m(answer, gateway_client, target_id, name)\u001b[0m\n\u001b[1;32m    324\u001b[0m value \u001b[38;5;241m=\u001b[39m OUTPUT_CONVERTER[\u001b[38;5;28mtype\u001b[39m](answer[\u001b[38;5;241m2\u001b[39m:], gateway_client)\n\u001b[1;32m    325\u001b[0m \u001b[38;5;28;01mif\u001b[39;00m answer[\u001b[38;5;241m1\u001b[39m] \u001b[38;5;241m==\u001b[39m REFERENCE_TYPE:\n\u001b[0;32m--> 326\u001b[0m     \u001b[38;5;28;01mraise\u001b[39;00m Py4JJavaError(\n\u001b[1;32m    327\u001b[0m         \u001b[38;5;124m\"\u001b[39m\u001b[38;5;124mAn error occurred while calling \u001b[39m\u001b[38;5;132;01m{0}\u001b[39;00m\u001b[38;5;132;01m{1}\u001b[39;00m\u001b[38;5;132;01m{2}\u001b[39;00m\u001b[38;5;124m.\u001b[39m\u001b[38;5;130;01m\\n\u001b[39;00m\u001b[38;5;124m\"\u001b[39m\u001b[38;5;241m.\u001b[39m\n\u001b[1;32m    328\u001b[0m         \u001b[38;5;28mformat\u001b[39m(target_id, \u001b[38;5;124m\"\u001b[39m\u001b[38;5;124m.\u001b[39m\u001b[38;5;124m\"\u001b[39m, name), value)\n\u001b[1;32m    329\u001b[0m \u001b[38;5;28;01melse\u001b[39;00m:\n\u001b[1;32m    330\u001b[0m     \u001b[38;5;28;01mraise\u001b[39;00m Py4JError(\n\u001b[1;32m    331\u001b[0m         \u001b[38;5;124m\"\u001b[39m\u001b[38;5;124mAn error occurred while calling \u001b[39m\u001b[38;5;132;01m{0}\u001b[39;00m\u001b[38;5;132;01m{1}\u001b[39;00m\u001b[38;5;132;01m{2}\u001b[39;00m\u001b[38;5;124m. Trace:\u001b[39m\u001b[38;5;130;01m\\n\u001b[39;00m\u001b[38;5;132;01m{3}\u001b[39;00m\u001b[38;5;130;01m\\n\u001b[39;00m\u001b[38;5;124m\"\u001b[39m\u001b[38;5;241m.\u001b[39m\n\u001b[1;32m    332\u001b[0m         \u001b[38;5;28mformat\u001b[39m(target_id, \u001b[38;5;124m\"\u001b[39m\u001b[38;5;124m.\u001b[39m\u001b[38;5;124m\"\u001b[39m, name, value))\n",
      "\u001b[0;31mPy4JJavaError\u001b[0m: An error occurred while calling o8696.showString.\n: org.apache.spark.SparkException: Job aborted due to stage failure: Task 1 in stage 463.0 failed 1 times, most recent failure: Lost task 1.0 in stage 463.0 (TID 1596) (48135be0fed5 executor driver): org.apache.spark.SparkException: Failed to execute user defined function (ProbabilisticClassificationModel$$Lambda$4315/0x0000000801ceb3e0: (struct<type:tinyint,size:int,indices:array<int>,values:array<double>>) => struct<type:tinyint,size:int,indices:array<int>,values:array<double>>)\n\tat org.apache.spark.sql.errors.QueryExecutionErrors$.failedExecuteUserDefinedFunctionError(QueryExecutionErrors.scala:190)\n\tat org.apache.spark.sql.errors.QueryExecutionErrors.failedExecuteUserDefinedFunctionError(QueryExecutionErrors.scala)\n\tat org.apache.spark.sql.catalyst.expressions.GeneratedClass$GeneratedIteratorForCodegenStage1.hashAgg_doAggregateWithKeys_0$(Unknown Source)\n\tat org.apache.spark.sql.catalyst.expressions.GeneratedClass$GeneratedIteratorForCodegenStage1.processNext(Unknown Source)\n\tat org.apache.spark.sql.execution.BufferedRowIterator.hasNext(BufferedRowIterator.java:43)\n\tat org.apache.spark.sql.execution.WholeStageCodegenExec$$anon$1.hasNext(WholeStageCodegenExec.scala:760)\n\tat scala.collection.Iterator$$anon$10.hasNext(Iterator.scala:460)\n\tat org.apache.spark.shuffle.sort.BypassMergeSortShuffleWriter.write(BypassMergeSortShuffleWriter.java:140)\n\tat org.apache.spark.shuffle.ShuffleWriteProcessor.write(ShuffleWriteProcessor.scala:59)\n\tat org.apache.spark.scheduler.ShuffleMapTask.runTask(ShuffleMapTask.scala:99)\n\tat org.apache.spark.scheduler.ShuffleMapTask.runTask(ShuffleMapTask.scala:52)\n\tat org.apache.spark.scheduler.Task.run(Task.scala:136)\n\tat org.apache.spark.executor.Executor$TaskRunner.$anonfun$run$3(Executor.scala:548)\n\tat org.apache.spark.util.Utils$.tryWithSafeFinally(Utils.scala:1504)\n\tat org.apache.spark.executor.Executor$TaskRunner.run(Executor.scala:551)\n\tat java.base/java.util.concurrent.ThreadPoolExecutor.runWorker(ThreadPoolExecutor.java:1136)\n\tat java.base/java.util.concurrent.ThreadPoolExecutor$Worker.run(ThreadPoolExecutor.java:635)\n\tat java.base/java.lang.Thread.run(Thread.java:833)\nCaused by: java.lang.IllegalArgumentException: requirement failed: BLAS.dot(x: Vector, y:Vector) was given Vectors with non-matching sizes: x.size = 96, y.size = 94\n\tat scala.Predef$.require(Predef.scala:281)\n\tat org.apache.spark.ml.linalg.BLAS$.dot(BLAS.scala:125)\n\tat org.apache.spark.ml.classification.LogisticRegressionModel.$anonfun$margin$1(LogisticRegression.scala:1156)\n\tat org.apache.spark.ml.classification.LogisticRegressionModel.$anonfun$margin$1$adapted(LogisticRegression.scala:1155)\n\tat org.apache.spark.ml.classification.LogisticRegressionModel.predictRaw(LogisticRegression.scala:1246)\n\tat org.apache.spark.ml.classification.LogisticRegressionModel.predictRaw(LogisticRegression.scala:1055)\n\tat org.apache.spark.ml.classification.ProbabilisticClassificationModel.$anonfun$transform$2(ProbabilisticClassifier.scala:121)\n\t... 16 more\n\nDriver stacktrace:\n\tat org.apache.spark.scheduler.DAGScheduler.failJobAndIndependentStages(DAGScheduler.scala:2672)\n\tat org.apache.spark.scheduler.DAGScheduler.$anonfun$abortStage$2(DAGScheduler.scala:2608)\n\tat org.apache.spark.scheduler.DAGScheduler.$anonfun$abortStage$2$adapted(DAGScheduler.scala:2607)\n\tat scala.collection.mutable.ResizableArray.foreach(ResizableArray.scala:62)\n\tat scala.collection.mutable.ResizableArray.foreach$(ResizableArray.scala:55)\n\tat scala.collection.mutable.ArrayBuffer.foreach(ArrayBuffer.scala:49)\n\tat org.apache.spark.scheduler.DAGScheduler.abortStage(DAGScheduler.scala:2607)\n\tat org.apache.spark.scheduler.DAGScheduler.$anonfun$handleTaskSetFailed$1(DAGScheduler.scala:1182)\n\tat org.apache.spark.scheduler.DAGScheduler.$anonfun$handleTaskSetFailed$1$adapted(DAGScheduler.scala:1182)\n\tat scala.Option.foreach(Option.scala:407)\n\tat org.apache.spark.scheduler.DAGScheduler.handleTaskSetFailed(DAGScheduler.scala:1182)\n\tat org.apache.spark.scheduler.DAGSchedulerEventProcessLoop.doOnReceive(DAGScheduler.scala:2860)\n\tat org.apache.spark.scheduler.DAGSchedulerEventProcessLoop.onReceive(DAGScheduler.scala:2802)\n\tat org.apache.spark.scheduler.DAGSchedulerEventProcessLoop.onReceive(DAGScheduler.scala:2791)\n\tat org.apache.spark.util.EventLoop$$anon$1.run(EventLoop.scala:49)\nCaused by: org.apache.spark.SparkException: Failed to execute user defined function (ProbabilisticClassificationModel$$Lambda$4315/0x0000000801ceb3e0: (struct<type:tinyint,size:int,indices:array<int>,values:array<double>>) => struct<type:tinyint,size:int,indices:array<int>,values:array<double>>)\n\tat org.apache.spark.sql.errors.QueryExecutionErrors$.failedExecuteUserDefinedFunctionError(QueryExecutionErrors.scala:190)\n\tat org.apache.spark.sql.errors.QueryExecutionErrors.failedExecuteUserDefinedFunctionError(QueryExecutionErrors.scala)\n\tat org.apache.spark.sql.catalyst.expressions.GeneratedClass$GeneratedIteratorForCodegenStage1.hashAgg_doAggregateWithKeys_0$(Unknown Source)\n\tat org.apache.spark.sql.catalyst.expressions.GeneratedClass$GeneratedIteratorForCodegenStage1.processNext(Unknown Source)\n\tat org.apache.spark.sql.execution.BufferedRowIterator.hasNext(BufferedRowIterator.java:43)\n\tat org.apache.spark.sql.execution.WholeStageCodegenExec$$anon$1.hasNext(WholeStageCodegenExec.scala:760)\n\tat scala.collection.Iterator$$anon$10.hasNext(Iterator.scala:460)\n\tat org.apache.spark.shuffle.sort.BypassMergeSortShuffleWriter.write(BypassMergeSortShuffleWriter.java:140)\n\tat org.apache.spark.shuffle.ShuffleWriteProcessor.write(ShuffleWriteProcessor.scala:59)\n\tat org.apache.spark.scheduler.ShuffleMapTask.runTask(ShuffleMapTask.scala:99)\n\tat org.apache.spark.scheduler.ShuffleMapTask.runTask(ShuffleMapTask.scala:52)\n\tat org.apache.spark.scheduler.Task.run(Task.scala:136)\n\tat org.apache.spark.executor.Executor$TaskRunner.$anonfun$run$3(Executor.scala:548)\n\tat org.apache.spark.util.Utils$.tryWithSafeFinally(Utils.scala:1504)\n\tat org.apache.spark.executor.Executor$TaskRunner.run(Executor.scala:551)\n\tat java.base/java.util.concurrent.ThreadPoolExecutor.runWorker(ThreadPoolExecutor.java:1136)\n\tat java.base/java.util.concurrent.ThreadPoolExecutor$Worker.run(ThreadPoolExecutor.java:635)\n\tat java.base/java.lang.Thread.run(Thread.java:833)\nCaused by: java.lang.IllegalArgumentException: requirement failed: BLAS.dot(x: Vector, y:Vector) was given Vectors with non-matching sizes: x.size = 96, y.size = 94\n\tat scala.Predef$.require(Predef.scala:281)\n\tat org.apache.spark.ml.linalg.BLAS$.dot(BLAS.scala:125)\n\tat org.apache.spark.ml.classification.LogisticRegressionModel.$anonfun$margin$1(LogisticRegression.scala:1156)\n\tat org.apache.spark.ml.classification.LogisticRegressionModel.$anonfun$margin$1$adapted(LogisticRegression.scala:1155)\n\tat org.apache.spark.ml.classification.LogisticRegressionModel.predictRaw(LogisticRegression.scala:1246)\n\tat org.apache.spark.ml.classification.LogisticRegressionModel.predictRaw(LogisticRegression.scala:1055)\n\tat org.apache.spark.ml.classification.ProbabilisticClassificationModel.$anonfun$transform$2(ProbabilisticClassifier.scala:121)\n\t... 16 more\n"
     ]
    }
   ],
   "source": [
    "pred_adult_10k.groupBy('prediction','label').agg(F.count('*').alias('cnt')).show(10,False)"
   ]
  },
  {
   "cell_type": "markdown",
   "metadata": {},
   "source": [
    "##### TOOK 10K SAMPLE FROM THE ORIGINAL DATA AND CHECK THE MODEL PERFORMANCE"
   ]
  },
  {
   "cell_type": "code",
   "execution_count": 100,
   "metadata": {
    "tags": []
   },
   "outputs": [],
   "source": [
    "sample_adult_df_10k = spark.read.parquet('synthpop_datasets/adult_10k')"
   ]
  },
  {
   "cell_type": "code",
   "execution_count": 13,
   "metadata": {},
   "outputs": [],
   "source": [
    "## Listing out all the columns\n",
    "cols = sample_adult_df_10k.columns\n",
    "\n",
    "from pyspark.ml.feature import OneHotEncoder, StringIndexer, VectorAssembler\n",
    "categoricalColumns = ['workclass','education','marital-status','occupation','relationship','race','gender','native-country']\n",
    "stages = []\n",
    "for categoricalCol in categoricalColumns:\n",
    "    stringIndexer = StringIndexer(inputCol = categoricalCol, outputCol = categoricalCol + 'Index')\n",
    "    encoder = OneHotEncoder(inputCols=[stringIndexer.getOutputCol()], outputCols=[categoricalCol + \"classVec\"])\n",
    "    stages += [stringIndexer, encoder]\n",
    "label_stringIdx = StringIndexer(inputCol = 'income', outputCol = 'label')\n",
    "stages += [label_stringIdx]\n",
    "numericCols = ['age','fnlwgt','educational-num','capital-gain','capital-loss','hours-per-week']\n",
    "assemblerInputs = [c + \"classVec\" for c in categoricalColumns] + numericCols\n",
    "assembler = VectorAssembler(inputCols=assemblerInputs, outputCol=\"features\")\n",
    "stages += [assembler]\n",
    "\n",
    "from pyspark.ml import Pipeline\n",
    "pipeline_adult_10k = Pipeline(stages = stages)\n",
    "pipelineModel_adult_10k = pipeline_adult_10k.fit(sample_adult_df_10k)\n",
    "adult_df1_10k = pipelineModel_adult_10k.transform(sample_adult_df_10k)\n",
    "selectedCols = ['label', 'features'] + cols\n",
    "adult_df1_10k = adult_df1_10k.select(selectedCols)\n"
   ]
  },
  {
   "cell_type": "markdown",
   "metadata": {},
   "source": [
    "#### Train and Test"
   ]
  },
  {
   "cell_type": "code",
   "execution_count": 101,
   "metadata": {
    "tags": []
   },
   "outputs": [
    {
     "name": "stdout",
     "output_type": "stream",
     "text": [
      "Training Dataset Count: 7986\n",
      "Test Dataset Count: 2014\n"
     ]
    }
   ],
   "source": [
    "train_adult_10k, test_adult_10k = adult_df1_10k.randomSplit([0.8, 0.2], seed = 2018)\n",
    "print(\"Training Dataset Count: \" + str(train_adult_10k.count()))\n",
    "print(\"Test Dataset Count: \" + str(test_adult_10k.count()))"
   ]
  },
  {
   "cell_type": "markdown",
   "metadata": {},
   "source": [
    "#### Modelling"
   ]
  },
  {
   "cell_type": "code",
   "execution_count": 102,
   "metadata": {
    "tags": []
   },
   "outputs": [],
   "source": [
    "from pyspark.ml.classification import LogisticRegression\n",
    "lr_adult_10k = LogisticRegression(featuresCol = 'features', labelCol = 'label', maxIter=10)\n",
    "lrModel_adult_10k = lr_adult_10k.fit(adult_df1_10k)"
   ]
  },
  {
   "cell_type": "markdown",
   "metadata": {},
   "source": [
    "#### Load and Save the Model"
   ]
  },
  {
   "cell_type": "code",
   "execution_count": 103,
   "metadata": {
    "tags": []
   },
   "outputs": [],
   "source": [
    "# writing the model\n",
    "from pyspark.ml import PipelineModel\n",
    "mPath = \"synthpop_datasets/models/adult_model_pyspark_10k\"\n",
    "lrModel_adult_10k.write().overwrite().save(mPath)\n",
    "\n",
    "from pyspark.ml.classification import LogisticRegressionModel\n",
    "lrModel_adult_10k = LogisticRegressionModel.load(mPath)"
   ]
  },
  {
   "cell_type": "code",
   "execution_count": 104,
   "metadata": {
    "tags": []
   },
   "outputs": [],
   "source": [
    "from pyspark.ml.classification import LogisticRegressionModel\n"
   ]
  },
  {
   "cell_type": "code",
   "execution_count": 105,
   "metadata": {
    "tags": []
   },
   "outputs": [],
   "source": [
    "pred_adult_10k = lrModel_adult_10k.transform(test_adult_10k)"
   ]
  },
  {
   "cell_type": "code",
   "execution_count": 106,
   "metadata": {
    "tags": []
   },
   "outputs": [
    {
     "name": "stdout",
     "output_type": "stream",
     "text": [
      "Accuracy :  0.8421052631578947\n"
     ]
    }
   ],
   "source": [
    "accuracy = pred_adult_10k.filter(pred_adult_10k.label == pred_adult_10k.prediction).count() / float(pred_adult_10k.count())\n",
    "print(\"Accuracy : \",accuracy)\n",
    "\n",
    "#Accuracy :  0.8498753117206983"
   ]
  },
  {
   "cell_type": "code",
   "execution_count": 107,
   "metadata": {
    "tags": []
   },
   "outputs": [
    {
     "name": "stdout",
     "output_type": "stream",
     "text": [
      "+----------+-----+----+\n",
      "|prediction|label|cnt |\n",
      "+----------+-----+----+\n",
      "|1.0       |1.0  |307 |\n",
      "|0.0       |1.0  |201 |\n",
      "|1.0       |0.0  |117 |\n",
      "|0.0       |0.0  |1389|\n",
      "+----------+-----+----+\n",
      "\n"
     ]
    }
   ],
   "source": [
    "pred_adult_10k.groupBy('prediction','label').agg(F.count('*').alias('cnt')).show(10,False)"
   ]
  },
  {
   "cell_type": "markdown",
   "metadata": {},
   "source": [
    "#### Creating 5 different samples of 10k Records from original data"
   ]
  },
  {
   "cell_type": "code",
   "execution_count": 108,
   "metadata": {
    "tags": []
   },
   "outputs": [],
   "source": [
    "adult_df_sample_1 = adult_spark_preprocessed_df.sample(False,0.32865,seed=8394) #10k"
   ]
  },
  {
   "cell_type": "code",
   "execution_count": 109,
   "metadata": {
    "tags": []
   },
   "outputs": [
    {
     "data": {
      "text/plain": [
       "9972"
      ]
     },
     "execution_count": 109,
     "metadata": {},
     "output_type": "execute_result"
    }
   ],
   "source": [
    "adult_df_sample_1.count()"
   ]
  },
  {
   "cell_type": "code",
   "execution_count": 110,
   "metadata": {
    "tags": []
   },
   "outputs": [],
   "source": [
    "adult_df_sample_1.write.mode('overwrite').parquet('synthpop_datasets/adult_10k_sample_1')\n",
    "sample_1_10k = spark.read.parquet('synthpop_datasets/adult_10k_sample_1')"
   ]
  },
  {
   "cell_type": "code",
   "execution_count": 111,
   "metadata": {
    "tags": []
   },
   "outputs": [],
   "source": [
    "## Listing out all the columns\n",
    "cols = sample_1_10k.columns\n",
    "\n",
    "from pyspark.ml.feature import OneHotEncoder, StringIndexer, VectorAssembler\n",
    "categoricalColumns = ['workclass','education','marital-status','occupation','relationship','race','gender','native-country']\n",
    "stages = []\n",
    "for categoricalCol in categoricalColumns:\n",
    "    stringIndexer = StringIndexer(inputCol = categoricalCol, outputCol = categoricalCol + 'Index')\n",
    "    encoder = OneHotEncoder(inputCols=[stringIndexer.getOutputCol()], outputCols=[categoricalCol + \"classVec\"])\n",
    "    stages += [stringIndexer, encoder]\n",
    "label_stringIdx = StringIndexer(inputCol = 'income', outputCol = 'label')\n",
    "stages += [label_stringIdx]\n",
    "numericCols = ['age','fnlwgt','educational-num','capital-gain','capital-loss','hours-per-week']\n",
    "assemblerInputs = [c + \"classVec\" for c in categoricalColumns] + numericCols\n",
    "assembler = VectorAssembler(inputCols=assemblerInputs, outputCol=\"features\")\n",
    "stages += [assembler]\n",
    "\n",
    "from pyspark.ml import Pipeline\n",
    "pipeline_samp1_10k = Pipeline(stages = stages)\n",
    "pipelineModel_samp1_10k = pipeline_samp1_10k.fit(sample_1_10k)\n",
    "adult_samp_10k = pipelineModel_samp1_10k.transform(sample_1_10k)\n",
    "selectedCols = ['label', 'features'] + cols\n",
    "adult_sample1_10k = adult_samp_10k.select(selectedCols)\n"
   ]
  },
  {
   "cell_type": "code",
   "execution_count": 112,
   "metadata": {
    "tags": []
   },
   "outputs": [
    {
     "name": "stdout",
     "output_type": "stream",
     "text": [
      "Training Dataset Count: 8002\n",
      "Test Dataset Count: 1970\n"
     ]
    }
   ],
   "source": [
    "train_adult_samp1_10k, test_adult_samp1_10k = adult_sample1_10k.randomSplit([0.8, 0.2], seed = 2018)\n",
    "print(\"Training Dataset Count: \" + str(train_adult_samp1_10k.count()))\n",
    "print(\"Test Dataset Count: \" + str(test_adult_samp1_10k.count()))"
   ]
  },
  {
   "cell_type": "code",
   "execution_count": 113,
   "metadata": {
    "tags": []
   },
   "outputs": [],
   "source": [
    "train_adult_samp1_10k.write.mode('overwrite').parquet('synthpop_datasets/train_adult_samp1_10k')\n",
    "test_adult_samp1_10k.write.mode('overwrite').parquet('synthpop_datasets/test_adult_samp1_10k')\n",
    "\n",
    "train_adult_sample1_10k = spark.read.parquet('synthpop_datasets/train_adult_samp1_10k')\n",
    "test_adult_sample1_10k = spark.read.parquet('synthpop_datasets/test_adult_samp1_10k')\n"
   ]
  },
  {
   "cell_type": "code",
   "execution_count": 114,
   "metadata": {
    "tags": []
   },
   "outputs": [],
   "source": [
    "from pyspark.ml.classification import LogisticRegression\n",
    "lr_10k_sample1 = LogisticRegression(featuresCol = 'features', labelCol = 'label', maxIter=10)\n",
    "lrModel_sampl1_10k = lr_10k_sample1.fit(train_adult_sample1_10k)\n"
   ]
  },
  {
   "cell_type": "code",
   "execution_count": 115,
   "metadata": {
    "tags": []
   },
   "outputs": [],
   "source": [
    "# writing the model\n",
    "from pyspark.ml import PipelineModel\n",
    "mPath = \"synthpop_datasets/models/adult_model_sample1_10k\"\n",
    "lrModel_sampl1_10k.write().overwrite().save(mPath)\n",
    "\n",
    "from pyspark.ml.classification import LogisticRegressionModel\n",
    "adult_model_samp1_10k = LogisticRegressionModel.load(mPath)"
   ]
  },
  {
   "cell_type": "code",
   "execution_count": 116,
   "metadata": {
    "tags": []
   },
   "outputs": [
    {
     "name": "stdout",
     "output_type": "stream",
     "text": [
      "Accuracy :  0.8431472081218274\n"
     ]
    }
   ],
   "source": [
    "pred_adult_sampl1_10k = adult_model_samp1_10k.transform(test_adult_sample1_10k)\n",
    "\n",
    "accuracy = pred_adult_sampl1_10k.filter(pred_adult_sampl1_10k.label == pred_adult_sampl1_10k.prediction).count() / float(pred_adult_sampl1_10k.count())\n",
    "print(\"Accuracy : \",accuracy)\n"
   ]
  },
  {
   "cell_type": "code",
   "execution_count": 117,
   "metadata": {
    "tags": []
   },
   "outputs": [
    {
     "name": "stdout",
     "output_type": "stream",
     "text": [
      "+----------+-----+----+\n",
      "|prediction|label|cnt |\n",
      "+----------+-----+----+\n",
      "|1.0       |1.0  |285 |\n",
      "|0.0       |1.0  |208 |\n",
      "|1.0       |0.0  |101 |\n",
      "|0.0       |0.0  |1376|\n",
      "+----------+-----+----+\n",
      "\n"
     ]
    }
   ],
   "source": [
    "pred_adult_sampl1_10k.groupBy('prediction','label').agg(F.count('*').alias('cnt')).show(10,False)"
   ]
  },
  {
   "cell_type": "markdown",
   "metadata": {},
   "source": [
    "#### SAMPLE 2 WITH DIFFERENT SEED OF 10K ADULT DATASET"
   ]
  },
  {
   "cell_type": "code",
   "execution_count": 118,
   "metadata": {
    "tags": []
   },
   "outputs": [
    {
     "data": {
      "text/plain": [
       "9737"
      ]
     },
     "execution_count": 118,
     "metadata": {},
     "output_type": "execute_result"
    }
   ],
   "source": [
    "adult_df_sample_2 = adult_spark_preprocessed_df.sample(False,0.33,seed=4307) #10k\n",
    "adult_df_sample_2.count()"
   ]
  },
  {
   "cell_type": "code",
   "execution_count": 119,
   "metadata": {
    "tags": []
   },
   "outputs": [],
   "source": [
    "adult_df_sample_2.write.mode('overwrite').parquet('synthpop_datasets/adult_10k_sample_2')\n",
    "sample_2_10k = spark.read.parquet('synthpop_datasets/adult_10k_sample_2')"
   ]
  },
  {
   "cell_type": "code",
   "execution_count": 121,
   "metadata": {
    "tags": []
   },
   "outputs": [
    {
     "name": "stdout",
     "output_type": "stream",
     "text": [
      "Training Dataset Count: 7815\n",
      "Test Dataset Count: 1922\n",
      "Accuracy :  0.8407908428720083\n"
     ]
    }
   ],
   "source": [
    "## Listing out all the columns\n",
    "cols = sample_2_10k.columns\n",
    "\n",
    "from pyspark.ml.feature import OneHotEncoder, StringIndexer, VectorAssembler\n",
    "categoricalColumns = ['workclass','education','marital-status','occupation','relationship','race','gender','native-country']\n",
    "stages = []\n",
    "for categoricalCol in categoricalColumns:\n",
    "    stringIndexer = StringIndexer(inputCol = categoricalCol, outputCol = categoricalCol + 'Index')\n",
    "    encoder = OneHotEncoder(inputCols=[stringIndexer.getOutputCol()], outputCols=[categoricalCol + \"classVec\"])\n",
    "    stages += [stringIndexer, encoder]\n",
    "label_stringIdx = StringIndexer(inputCol = 'income', outputCol = 'label')\n",
    "stages += [label_stringIdx]\n",
    "numericCols = ['age','fnlwgt','educational-num','capital-gain','capital-loss','hours-per-week']\n",
    "assemblerInputs = [c + \"classVec\" for c in categoricalColumns] + numericCols\n",
    "assembler = VectorAssembler(inputCols=assemblerInputs, outputCol=\"features\")\n",
    "stages += [assembler]\n",
    "\n",
    "from pyspark.ml import Pipeline\n",
    "pipeline_samp2_10k = Pipeline(stages = stages)\n",
    "pipelineModel_samp2_10k = pipeline_samp2_10k.fit(sample_2_10k)\n",
    "adult_samp2_10k = pipelineModel_samp2_10k.transform(sample_2_10k)\n",
    "selectedCols = ['label', 'features'] + cols\n",
    "adult_sample2_10k = adult_samp2_10k.select(selectedCols)\n",
    "\n",
    "train_adult_samp2_10k, test_adult_samp2_10k = adult_sample2_10k.randomSplit([0.8, 0.2], seed = 2018)\n",
    "print(\"Training Dataset Count: \" + str(train_adult_samp2_10k.count()))\n",
    "print(\"Test Dataset Count: \" + str(test_adult_samp2_10k.count()))\n",
    "\n",
    "train_adult_samp2_10k.write.mode('overwrite').parquet('synthpop_datasets/train_adult_samp2_10k')\n",
    "test_adult_samp2_10k.write.mode('overwrite').parquet('synthpop_datasets/test_adult_samp2_10k')\n",
    "\n",
    "train_adult_sample2_10k = spark.read.parquet('synthpop_datasets/train_adult_samp2_10k')\n",
    "test_adult_sample2_10k = spark.read.parquet('synthpop_datasets/test_adult_samp2_10k')\n",
    "\n",
    "from pyspark.ml.classification import LogisticRegression\n",
    "lr_10k_sample2 = LogisticRegression(featuresCol = 'features', labelCol = 'label', maxIter=10)\n",
    "lrModel_sampl2_10k = lr_10k_sample2.fit(train_adult_sample2_10k)\n",
    "\n",
    "# writing the model\n",
    "from pyspark.ml import PipelineModel\n",
    "mPath = \"synthpop_datasets/models/adult_model_sample2_10k\"\n",
    "lrModel_sampl2_10k.write().overwrite().save(mPath)\n",
    "\n",
    "from pyspark.ml.classification import LogisticRegressionModel\n",
    "adult_model_samp2_10k = LogisticRegressionModel.load(mPath)\n",
    "\n",
    "pred_adult_sampl2_10k = adult_model_samp2_10k.transform(test_adult_sample2_10k)\n",
    "\n",
    "accuracy = pred_adult_sampl2_10k.filter(pred_adult_sampl2_10k.label == pred_adult_sampl2_10k.prediction).count() / float(pred_adult_sampl2_10k.count())\n",
    "print(\"Accuracy : \",accuracy)\n"
   ]
  },
  {
   "cell_type": "code",
   "execution_count": 122,
   "metadata": {
    "tags": []
   },
   "outputs": [
    {
     "name": "stdout",
     "output_type": "stream",
     "text": [
      "+----------+-----+----+\n",
      "|prediction|label|cnt |\n",
      "+----------+-----+----+\n",
      "|1.0       |1.0  |282 |\n",
      "|0.0       |1.0  |199 |\n",
      "|1.0       |0.0  |107 |\n",
      "|0.0       |0.0  |1334|\n",
      "+----------+-----+----+\n",
      "\n"
     ]
    }
   ],
   "source": [
    "pred_adult_sampl2_10k.groupBy('prediction','label').agg(F.count('*').alias('cnt')).show(10,False)"
   ]
  },
  {
   "cell_type": "markdown",
   "metadata": {},
   "source": [
    "#### SAMPLE 3 WITH DIFFERENT SEED OF 10K DATASET "
   ]
  },
  {
   "cell_type": "code",
   "execution_count": 123,
   "metadata": {
    "tags": []
   },
   "outputs": [
    {
     "data": {
      "text/plain": [
       "10421"
      ]
     },
     "execution_count": 123,
     "metadata": {},
     "output_type": "execute_result"
    }
   ],
   "source": [
    "adult_df_sample_3 = adult_spark_preprocessed_df.sample(False,0.34,seed=6297) #10k\n",
    "adult_df_sample_3.count()"
   ]
  },
  {
   "cell_type": "code",
   "execution_count": 124,
   "metadata": {
    "tags": []
   },
   "outputs": [],
   "source": [
    "adult_df_sample_3.write.mode('overwrite').parquet('synthpop_datasets/adult_10k_sample_3')\n",
    "sample_3_10k = spark.read.parquet('synthpop_datasets/adult_10k_sample_3')"
   ]
  },
  {
   "cell_type": "code",
   "execution_count": 125,
   "metadata": {
    "tags": []
   },
   "outputs": [
    {
     "name": "stdout",
     "output_type": "stream",
     "text": [
      "Training Dataset Count: 8367\n",
      "Test Dataset Count: 2054\n",
      "Accuracy :  0.8403115871470301\n"
     ]
    }
   ],
   "source": [
    "## Listing out all the columns\n",
    "cols = sample_3_10k.columns\n",
    "\n",
    "from pyspark.ml.feature import OneHotEncoder, StringIndexer, VectorAssembler\n",
    "categoricalColumns = ['workclass','education','marital-status','occupation','relationship','race','gender','native-country']\n",
    "stages = []\n",
    "for categoricalCol in categoricalColumns:\n",
    "    stringIndexer = StringIndexer(inputCol = categoricalCol, outputCol = categoricalCol + 'Index')\n",
    "    encoder = OneHotEncoder(inputCols=[stringIndexer.getOutputCol()], outputCols=[categoricalCol + \"classVec\"])\n",
    "    stages += [stringIndexer, encoder]\n",
    "label_stringIdx = StringIndexer(inputCol = 'income', outputCol = 'label')\n",
    "stages += [label_stringIdx]\n",
    "numericCols = ['age','fnlwgt','educational-num','capital-gain','capital-loss','hours-per-week']\n",
    "assemblerInputs = [c + \"classVec\" for c in categoricalColumns] + numericCols\n",
    "assembler = VectorAssembler(inputCols=assemblerInputs, outputCol=\"features\")\n",
    "stages += [assembler]\n",
    "\n",
    "from pyspark.ml import Pipeline\n",
    "pipeline_samp3_10k = Pipeline(stages = stages)\n",
    "pipelineModel_samp3_10k = pipeline_samp3_10k.fit(sample_3_10k)\n",
    "adult_samp3_10k = pipelineModel_samp3_10k.transform(sample_3_10k)\n",
    "selectedCols = ['label', 'features'] + cols\n",
    "adult_sample3_10k = adult_samp3_10k.select(selectedCols)\n",
    "\n",
    "train_adult_samp3_10k, test_adult_samp3_10k = adult_sample3_10k.randomSplit([0.8, 0.2], seed = 2018)\n",
    "print(\"Training Dataset Count: \" + str(train_adult_samp3_10k.count()))\n",
    "print(\"Test Dataset Count: \" + str(test_adult_samp3_10k.count()))\n",
    "\n",
    "train_adult_samp3_10k.write.mode('overwrite').parquet('synthpop_datasets/train_adult_samp3_10k')\n",
    "test_adult_samp3_10k.write.mode('overwrite').parquet('synthpop_datasets/test_adult_samp3_10k')\n",
    "\n",
    "train_adult_sample3_10k = spark.read.parquet('synthpop_datasets/train_adult_samp3_10k')\n",
    "test_adult_sample3_10k = spark.read.parquet('synthpop_datasets/test_adult_samp3_10k')\n",
    "\n",
    "from pyspark.ml.classification import LogisticRegression\n",
    "lr_10k_sample3 = LogisticRegression(featuresCol = 'features', labelCol = 'label', maxIter=10)\n",
    "lrModel_sampl3_10k = lr_10k_sample3.fit(train_adult_sample3_10k)\n",
    "\n",
    "# writing the model\n",
    "from pyspark.ml import PipelineModel\n",
    "mPath = \"synthpop_datasets/models/adult_model_sample3_10k\"\n",
    "lrModel_sampl3_10k.write().overwrite().save(mPath)\n",
    "\n",
    "from pyspark.ml.classification import LogisticRegressionModel\n",
    "adult_model_samp3_10k = LogisticRegressionModel.load(mPath)\n",
    "\n",
    "pred_adult_sampl3_10k = adult_model_samp3_10k.transform(test_adult_sample3_10k)\n",
    "\n",
    "accuracy = pred_adult_sampl3_10k.filter(pred_adult_sampl3_10k.label == pred_adult_sampl3_10k.prediction).count() / float(pred_adult_sampl3_10k.count())\n",
    "print(\"Accuracy : \",accuracy)\n"
   ]
  },
  {
   "cell_type": "code",
   "execution_count": 126,
   "metadata": {
    "tags": []
   },
   "outputs": [
    {
     "name": "stdout",
     "output_type": "stream",
     "text": [
      "+----------+-----+----+\n",
      "|prediction|label|cnt |\n",
      "+----------+-----+----+\n",
      "|1.0       |1.0  |287 |\n",
      "|0.0       |1.0  |213 |\n",
      "|1.0       |0.0  |115 |\n",
      "|0.0       |0.0  |1439|\n",
      "+----------+-----+----+\n",
      "\n"
     ]
    }
   ],
   "source": [
    "pred_adult_sampl3_10k.groupBy('prediction','label').agg(F.count('*').alias('cnt')).show(10,False)"
   ]
  },
  {
   "cell_type": "markdown",
   "metadata": {},
   "source": [
    "### Sample 4"
   ]
  },
  {
   "cell_type": "code",
   "execution_count": 129,
   "metadata": {
    "tags": []
   },
   "outputs": [
    {
     "data": {
      "text/plain": [
       "10189"
      ]
     },
     "execution_count": 129,
     "metadata": {},
     "output_type": "execute_result"
    }
   ],
   "source": [
    "adult_df_sample_4 = adult_spark_preprocessed_df.sample(False,0.333,seed=431) #10k\n",
    "adult_df_sample_4.count()"
   ]
  },
  {
   "cell_type": "code",
   "execution_count": 131,
   "metadata": {
    "tags": []
   },
   "outputs": [
    {
     "name": "stdout",
     "output_type": "stream",
     "text": [
      "Training Dataset Count: 8178\n",
      "Test Dataset Count: 2011\n",
      "Accuracy :  0.8498259572352064\n",
      "+----------+-----+----+\n",
      "|prediction|label|cnt |\n",
      "+----------+-----+----+\n",
      "|1.0       |1.0  |283 |\n",
      "|0.0       |1.0  |205 |\n",
      "|1.0       |0.0  |97  |\n",
      "|0.0       |0.0  |1426|\n",
      "+----------+-----+----+\n",
      "\n"
     ]
    }
   ],
   "source": [
    "adult_df_sample_4.write.mode('overwrite').parquet('synthpop_datasets/adult_10k_sample_4')\n",
    "sample_4_10k = spark.read.parquet('synthpop_datasets/adult_10k_sample_4')\n",
    "\n",
    "## Listing out all the columns\n",
    "cols = sample_4_10k.columns\n",
    "\n",
    "from pyspark.ml.feature import OneHotEncoder, StringIndexer, VectorAssembler\n",
    "categoricalColumns = ['workclass','education','marital-status','occupation','relationship','race','gender','native-country']\n",
    "stages = []\n",
    "for categoricalCol in categoricalColumns:\n",
    "    stringIndexer = StringIndexer(inputCol = categoricalCol, outputCol = categoricalCol + 'Index')\n",
    "    encoder = OneHotEncoder(inputCols=[stringIndexer.getOutputCol()], outputCols=[categoricalCol + \"classVec\"])\n",
    "    stages += [stringIndexer, encoder]\n",
    "label_stringIdx = StringIndexer(inputCol = 'income', outputCol = 'label')\n",
    "stages += [label_stringIdx]\n",
    "numericCols = ['age','fnlwgt','educational-num','capital-gain','capital-loss','hours-per-week']\n",
    "assemblerInputs = [c + \"classVec\" for c in categoricalColumns] + numericCols\n",
    "assembler = VectorAssembler(inputCols=assemblerInputs, outputCol=\"features\")\n",
    "stages += [assembler]\n",
    "\n",
    "from pyspark.ml import Pipeline\n",
    "pipeline_samp4_10k = Pipeline(stages = stages)\n",
    "pipelineModel_samp4_10k = pipeline_samp4_10k.fit(sample_4_10k)\n",
    "adult_samp4_10k = pipelineModel_samp4_10k.transform(sample_4_10k)\n",
    "selectedCols = ['label', 'features'] + cols\n",
    "adult_sample4_10k = adult_samp4_10k.select(selectedCols)\n",
    "\n",
    "train_adult_samp4_10k, test_adult_samp4_10k = adult_sample4_10k.randomSplit([0.8, 0.2], seed = 2018)\n",
    "print(\"Training Dataset Count: \" + str(train_adult_samp4_10k.count()))\n",
    "print(\"Test Dataset Count: \" + str(test_adult_samp4_10k.count()))\n",
    "\n",
    "train_adult_samp4_10k.write.mode('overwrite').parquet('synthpop_datasets/train_adult_samp4_10k')\n",
    "test_adult_samp4_10k.write.mode('overwrite').parquet('synthpop_datasets/test_adult_samp4_10k')\n",
    "\n",
    "train_adult_sample4_10k = spark.read.parquet('synthpop_datasets/train_adult_samp4_10k')\n",
    "test_adult_sample4_10k = spark.read.parquet('synthpop_datasets/test_adult_samp4_10k')\n",
    "\n",
    "from pyspark.ml.classification import LogisticRegression\n",
    "lr_10k_sample4 = LogisticRegression(featuresCol = 'features', labelCol = 'label', maxIter=10)\n",
    "lrModel_sampl4_10k = lr_10k_sample4.fit(train_adult_sample4_10k)\n",
    "\n",
    "# writing the model\n",
    "from pyspark.ml import PipelineModel\n",
    "mPath = \"synthpop_datasets/models/adult_model_sample4_10k\"\n",
    "lrModel_sampl4_10k.write().overwrite().save(mPath)\n",
    "\n",
    "from pyspark.ml.classification import LogisticRegressionModel\n",
    "adult_model_samp4_10k = LogisticRegressionModel.load(mPath)\n",
    "\n",
    "pred_adult_sampl4_10k = adult_model_samp4_10k.transform(test_adult_sample4_10k)\n",
    "\n",
    "accuracy = pred_adult_sampl4_10k.filter(pred_adult_sampl4_10k.label == pred_adult_sampl4_10k.prediction).count() / float(pred_adult_sampl4_10k.count())\n",
    "print(\"Accuracy : \",accuracy)\n",
    "\n",
    "pred_adult_sampl4_10k.groupBy('prediction','label').agg(F.count('*').alias('cnt')).show(10,False)"
   ]
  },
  {
   "cell_type": "markdown",
   "metadata": {},
   "source": [
    "#### Sample 5"
   ]
  },
  {
   "cell_type": "code",
   "execution_count": 132,
   "metadata": {
    "tags": []
   },
   "outputs": [
    {
     "data": {
      "text/plain": [
       "9993"
      ]
     },
     "execution_count": 132,
     "metadata": {},
     "output_type": "execute_result"
    }
   ],
   "source": [
    "adult_df_sample_5 = adult_spark_preprocessed_df.sample(False,0.329,seed=961374) #10k\n",
    "adult_df_sample_5.count()\n"
   ]
  },
  {
   "cell_type": "code",
   "execution_count": 133,
   "metadata": {
    "tags": []
   },
   "outputs": [
    {
     "name": "stdout",
     "output_type": "stream",
     "text": [
      "Training Dataset Count: 8016\n",
      "Test Dataset Count: 1977\n",
      "Accuracy :  0.829033889731917\n",
      "+----------+-----+----+\n",
      "|prediction|label|cnt |\n",
      "+----------+-----+----+\n",
      "|1.0       |1.0  |305 |\n",
      "|0.0       |1.0  |202 |\n",
      "|1.0       |0.0  |136 |\n",
      "|0.0       |0.0  |1334|\n",
      "+----------+-----+----+\n",
      "\n"
     ]
    }
   ],
   "source": [
    "adult_df_sample_5.write.mode('overwrite').parquet('synthpop_datasets/adult_10k_sample_5')\n",
    "sample_5_10k = spark.read.parquet('synthpop_datasets/adult_10k_sample_5')\n",
    "\n",
    "## Listing out all the columns\n",
    "cols = sample_5_10k.columns\n",
    "\n",
    "from pyspark.ml.feature import OneHotEncoder, StringIndexer, VectorAssembler\n",
    "categoricalColumns = ['workclass','education','marital-status','occupation','relationship','race','gender','native-country']\n",
    "stages = []\n",
    "for categoricalCol in categoricalColumns:\n",
    "    stringIndexer = StringIndexer(inputCol = categoricalCol, outputCol = categoricalCol + 'Index')\n",
    "    encoder = OneHotEncoder(inputCols=[stringIndexer.getOutputCol()], outputCols=[categoricalCol + \"classVec\"])\n",
    "    stages += [stringIndexer, encoder]\n",
    "label_stringIdx = StringIndexer(inputCol = 'income', outputCol = 'label')\n",
    "stages += [label_stringIdx]\n",
    "numericCols = ['age','fnlwgt','educational-num','capital-gain','capital-loss','hours-per-week']\n",
    "assemblerInputs = [c + \"classVec\" for c in categoricalColumns] + numericCols\n",
    "assembler = VectorAssembler(inputCols=assemblerInputs, outputCol=\"features\")\n",
    "stages += [assembler]\n",
    "\n",
    "from pyspark.ml import Pipeline\n",
    "pipeline_samp5_10k = Pipeline(stages = stages)\n",
    "pipelineModel_samp5_10k = pipeline_samp5_10k.fit(sample_5_10k)\n",
    "adult_samp5_10k = pipelineModel_samp5_10k.transform(sample_5_10k)\n",
    "selectedCols = ['label', 'features'] + cols\n",
    "adult_sample5_10k = adult_samp5_10k.select(selectedCols)\n",
    "\n",
    "train_adult_samp5_10k, test_adult_samp5_10k = adult_sample5_10k.randomSplit([0.8, 0.2], seed = 2018)\n",
    "print(\"Training Dataset Count: \" + str(train_adult_samp5_10k.count()))\n",
    "print(\"Test Dataset Count: \" + str(test_adult_samp5_10k.count()))\n",
    "\n",
    "train_adult_samp5_10k.write.mode('overwrite').parquet('synthpop_datasets/train_adult_samp5_10k')\n",
    "test_adult_samp5_10k.write.mode('overwrite').parquet('synthpop_datasets/test_adult_samp5_10k')\n",
    "\n",
    "train_adult_sample5_10k = spark.read.parquet('synthpop_datasets/train_adult_samp5_10k')\n",
    "test_adult_sample5_10k = spark.read.parquet('synthpop_datasets/test_adult_samp5_10k')\n",
    "\n",
    "from pyspark.ml.classification import LogisticRegression\n",
    "lr_10k_sample5 = LogisticRegression(featuresCol = 'features', labelCol = 'label', maxIter=10)\n",
    "lrModel_sampl5_10k = lr_10k_sample5.fit(train_adult_sample5_10k)\n",
    "\n",
    "# writing the model\n",
    "from pyspark.ml import PipelineModel\n",
    "mPath = \"synthpop_datasets/models/adult_model_sample5_10k\"\n",
    "lrModel_sampl5_10k.write().overwrite().save(mPath)\n",
    "\n",
    "from pyspark.ml.classification import LogisticRegressionModel\n",
    "adult_model_samp5_10k = LogisticRegressionModel.load(mPath)\n",
    "\n",
    "pred_adult_sampl5_10k = adult_model_samp5_10k.transform(test_adult_sample5_10k)\n",
    "\n",
    "accuracy = pred_adult_sampl5_10k.filter(pred_adult_sampl5_10k.label == pred_adult_sampl5_10k.prediction).count() / float(pred_adult_sampl5_10k.count())\n",
    "print(\"Accuracy : \",accuracy)\n",
    "\n",
    "pred_adult_sampl5_10k.groupBy('prediction','label').agg(F.count('*').alias('cnt')).show(10,False)"
   ]
  },
  {
   "cell_type": "code",
   "execution_count": null,
   "metadata": {},
   "outputs": [],
   "source": []
  }
 ],
 "metadata": {
  "kernelspec": {
   "display_name": "Python 3 (ipykernel)",
   "language": "python",
   "name": "python3"
  },
  "language_info": {
   "codemirror_mode": {
    "name": "ipython",
    "version": 3
   },
   "file_extension": ".py",
   "mimetype": "text/x-python",
   "name": "python",
   "nbconvert_exporter": "python",
   "pygments_lexer": "ipython3",
   "version": "3.11.4"
  }
 },
 "nbformat": 4,
 "nbformat_minor": 4
}
